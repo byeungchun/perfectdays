{
 "cells": [
  {
   "cell_type": "code",
   "execution_count": 1,
   "id": "a15fe6a5",
   "metadata": {},
   "outputs": [],
   "source": [
    "import os\n",
    "import glob\n",
    "import polars as pl\n",
    "from dotenv import load_dotenv"
   ]
  },
  {
   "cell_type": "code",
   "execution_count": 2,
   "id": "b6648a9a",
   "metadata": {},
   "outputs": [
    {
     "data": {
      "text/plain": [
       "True"
      ]
     },
     "execution_count": 2,
     "metadata": {},
     "output_type": "execute_result"
    }
   ],
   "source": [
    "load_dotenv(r\"C:\\Users\\by003457\\workspace\\perfectdays\\.env\")"
   ]
  },
  {
   "cell_type": "code",
   "execution_count": 3,
   "id": "a73776f2",
   "metadata": {},
   "outputs": [],
   "source": [
    "NEWS_PARQUET_MONTH_DIR = os.environ[\"NEWS_PARQUET_MONTH_DIR\"]"
   ]
  },
  {
   "cell_type": "code",
   "execution_count": 4,
   "id": "f9a1bad3",
   "metadata": {},
   "outputs": [],
   "source": [
    "mmfiles = sorted(glob.glob(os.path.join(NEWS_PARQUET_MONTH_DIR, \"*.parquet\")))"
   ]
  },
  {
   "cell_type": "code",
   "execution_count": 5,
   "id": "c4f87670",
   "metadata": {},
   "outputs": [],
   "source": [
    "mmfile = mmfiles[50]"
   ]
  },
  {
   "cell_type": "code",
   "execution_count": 6,
   "id": "416ae10e",
   "metadata": {},
   "outputs": [],
   "source": [
    "# load parquet file with polars\n",
    "df = pl.read_parquet(mmfile, n_rows=100)"
   ]
  },
  {
   "cell_type": "code",
   "execution_count": 8,
   "id": "0bf56e0a",
   "metadata": {},
   "outputs": [
    {
     "data": {
      "text/html": [
       "<div><style>\n",
       ".dataframe > thead > tr,\n",
       ".dataframe > tbody > tr {\n",
       "  text-align: right;\n",
       "  white-space: pre-wrap;\n",
       "}\n",
       "</style>\n",
       "<small>shape: (5, 7)</small><table border=\"1\" class=\"dataframe\"><thead><tr><th>guid</th><th>version_created</th><th>title</th><th>lang_code</th><th>subject_qcodes</th><th>content</th><th>src</th></tr><tr><td>str</td><td>str</td><td>str</td><td>str</td><td>str</td><td>str</td><td>str</td></tr></thead><tbody><tr><td>&quot;tag:reuters.com,2000-03-04:new…</td><td>&quot;2000-03-04T00:00:50.000Z&quot;</td><td>&quot;City Holding Company Announces…</td><td>&quot;en&quot;</td><td>&quot;L:en&quot;</td><td>&quot;&nbsp;&nbsp;City Holding Company Announc…</td><td>&quot;3PTY&quot;</td></tr><tr><td>&quot;tag:reuters.com,2000-03-04:new…</td><td>&quot;2000-03-04T00:01:01.000Z&quot;</td><td>&quot;Flooring America, Inc. Announc…</td><td>&quot;en&quot;</td><td>&quot;L:en&quot;</td><td>&quot;Flooring America, Inc. Announc…</td><td>&quot;3PTY&quot;</td></tr><tr><td>&quot;tag:reuters.com,2000-03-04:new…</td><td>&quot;2000-03-04T00:04:09.000Z&quot;</td><td>&quot;ON24 Video Investor Alert: ON2…</td><td>&quot;en&quot;</td><td>&quot;L:en&quot;</td><td>&quot;ON24 Video Investor Alert:\n",
       "ON2…</td><td>&quot;3PTY&quot;</td></tr><tr><td>&quot;tag:reuters.com,2000-03-04:new…</td><td>&quot;2000-03-04T00:08:01.000Z&quot;</td><td>&quot;Sacramento Commercial Bank Pur…</td><td>&quot;en&quot;</td><td>&quot;L:en&quot;</td><td>&quot;&nbsp;&nbsp;&nbsp;&nbsp;&nbsp;&nbsp;&nbsp;&nbsp;Sacramento Commercial …</td><td>&quot;3PTY&quot;</td></tr><tr><td>&quot;tag:reuters.com,2000-03-04:new…</td><td>&quot;2000-03-04T00:08:15.000Z&quot;</td><td>&quot;Ezenet Corp. Equity Financing …</td><td>&quot;en&quot;</td><td>&quot;L:en&quot;</td><td>&quot;\n",
       "(Full text of press release f…</td><td>&quot;3PTY&quot;</td></tr></tbody></table></div>"
      ],
      "text/plain": [
       "shape: (5, 7)\n",
       "┌───────────────┬───────────────┬───────────────┬───────────┬───────────────┬───────────────┬──────┐\n",
       "│ guid          ┆ version_creat ┆ title         ┆ lang_code ┆ subject_qcode ┆ content       ┆ src  │\n",
       "│ ---           ┆ ed            ┆ ---           ┆ ---       ┆ s             ┆ ---           ┆ ---  │\n",
       "│ str           ┆ ---           ┆ str           ┆ str       ┆ ---           ┆ str           ┆ str  │\n",
       "│               ┆ str           ┆               ┆           ┆ str           ┆               ┆      │\n",
       "╞═══════════════╪═══════════════╪═══════════════╪═══════════╪═══════════════╪═══════════════╪══════╡\n",
       "│ tag:reuters.c ┆ 2000-03-04T00 ┆ City Holding  ┆ en        ┆ L:en          ┆ City Holding  ┆ 3PTY │\n",
       "│ om,2000-03-04 ┆ :00:50.000Z   ┆ Company       ┆           ┆               ┆ Company       ┆      │\n",
       "│ :new…         ┆               ┆ Announces…    ┆           ┆               ┆ Announc…      ┆      │\n",
       "│ tag:reuters.c ┆ 2000-03-04T00 ┆ Flooring      ┆ en        ┆ L:en          ┆ Flooring      ┆ 3PTY │\n",
       "│ om,2000-03-04 ┆ :01:01.000Z   ┆ America, Inc. ┆           ┆               ┆ America, Inc. ┆      │\n",
       "│ :new…         ┆               ┆ Announc…      ┆           ┆               ┆ Announc…      ┆      │\n",
       "│ tag:reuters.c ┆ 2000-03-04T00 ┆ ON24 Video    ┆ en        ┆ L:en          ┆ ON24 Video    ┆ 3PTY │\n",
       "│ om,2000-03-04 ┆ :04:09.000Z   ┆ Investor      ┆           ┆               ┆ Investor      ┆      │\n",
       "│ :new…         ┆               ┆ Alert: ON2…   ┆           ┆               ┆ Alert:        ┆      │\n",
       "│               ┆               ┆               ┆           ┆               ┆ ON2…          ┆      │\n",
       "│ tag:reuters.c ┆ 2000-03-04T00 ┆ Sacramento    ┆ en        ┆ L:en          ┆ Sacramento    ┆ 3PTY │\n",
       "│ om,2000-03-04 ┆ :08:01.000Z   ┆ Commercial    ┆           ┆               ┆ Commercial …  ┆      │\n",
       "│ :new…         ┆               ┆ Bank Pur…     ┆           ┆               ┆               ┆      │\n",
       "│ tag:reuters.c ┆ 2000-03-04T00 ┆ Ezenet Corp.  ┆ en        ┆ L:en          ┆               ┆ 3PTY │\n",
       "│ om,2000-03-04 ┆ :08:15.000Z   ┆ Equity        ┆           ┆               ┆ (Full text of ┆      │\n",
       "│ :new…         ┆               ┆ Financing …   ┆           ┆               ┆ press release ┆      │\n",
       "│               ┆               ┆               ┆           ┆               ┆ f…            ┆      │\n",
       "└───────────────┴───────────────┴───────────────┴───────────┴───────────────┴───────────────┴──────┘"
      ]
     },
     "execution_count": 8,
     "metadata": {},
     "output_type": "execute_result"
    }
   ],
   "source": [
    "df.head()"
   ]
  },
  {
   "cell_type": "code",
   "execution_count": 12,
   "id": "aa83a273",
   "metadata": {},
   "outputs": [
    {
     "data": {
      "text/plain": [
       "(100, 7)"
      ]
     },
     "execution_count": 12,
     "metadata": {},
     "output_type": "execute_result"
    }
   ],
   "source": [
    "df.shape"
   ]
  },
  {
   "cell_type": "code",
   "execution_count": 11,
   "id": "06099d75",
   "metadata": {},
   "outputs": [
    {
     "name": "stdout",
     "output_type": "stream",
     "text": [
      "Total rows in file: shape: (1, 7)\n",
      "┌─────────┬─────────────────┬─────────┬───────────┬────────────────┬─────────┬─────────┐\n",
      "│ guid    ┆ version_created ┆ title   ┆ lang_code ┆ subject_qcodes ┆ content ┆ src     │\n",
      "│ ---     ┆ ---             ┆ ---     ┆ ---       ┆ ---            ┆ ---     ┆ ---     │\n",
      "│ u32     ┆ u32             ┆ u32     ┆ u32       ┆ u32            ┆ u32     ┆ u32     │\n",
      "╞═════════╪═════════════════╪═════════╪═══════════╪════════════════╪═════════╪═════════╡\n",
      "│ 2063090 ┆ 2063090         ┆ 2063090 ┆ 2063090   ┆ 2063090        ┆ 2063090 ┆ 2063090 │\n",
      "└─────────┴─────────────────┴─────────┴───────────┴────────────────┴─────────┴─────────┘\n"
     ]
    }
   ],
   "source": [
    "total_rows = pl.scan_parquet(mmfile).count().collect()\n",
    "print(\"Total rows in file:\", total_rows)"
   ]
  },
  {
   "cell_type": "markdown",
   "id": "f2d27ff5",
   "metadata": {},
   "source": [
    "#### News embedding analysis"
   ]
  },
  {
   "cell_type": "code",
   "execution_count": 7,
   "id": "8cabecae",
   "metadata": {},
   "outputs": [
    {
     "name": "stderr",
     "output_type": "stream",
     "text": [
      "c:\\Users\\by003457\\envs\\perfectdays\\Lib\\site-packages\\tqdm\\auto.py:21: TqdmWarning: IProgress not found. Please update jupyter and ipywidgets. See https://ipywidgets.readthedocs.io/en/stable/user_install.html\n",
      "  from .autonotebook import tqdm as notebook_tqdm\n"
     ]
    }
   ],
   "source": [
    "import os\n",
    "import glob\n",
    "import pandas as pd\n",
    "import numpy as np\n",
    "from pathlib import Path\n",
    "from transformers import AutoTokenizer, AutoModel\n",
    "from sentence_transformers import SentenceTransformer"
   ]
  },
  {
   "cell_type": "code",
   "execution_count": 4,
   "id": "8d2c4da6",
   "metadata": {},
   "outputs": [],
   "source": [
    "model_path = r\"C:\\Temp\\models--google--embeddinggemma-300m\\snapshots\\c5cfa06e5e282a820e85d57f7fb053207494f41d\"\n"
   ]
  },
  {
   "cell_type": "code",
   "execution_count": null,
   "id": "8eff2e12",
   "metadata": {},
   "outputs": [],
   "source": [
    "model = SentenceTransformer(model_path)\n",
    "tokenizer = AutoTokenizer.from_pretrained(model_path, trust_remote_code=True, use_fast=True)"
   ]
  },
  {
   "cell_type": "code",
   "execution_count": 5,
   "id": "6f0edec3",
   "metadata": {},
   "outputs": [],
   "source": [
    "npzfile = r\"L:\\MED\\TRAN\\2025_BankRegDataCollection\\rtrs_news\\monthly\\2024-04_embeddings_3pty_ko.npz\"\n",
    "pqfile = r\"L:\\MED\\TRAN\\2025_BankRegDataCollection\\rtrs_news\\monthly\\2024-04.parquet\""
   ]
  },
  {
   "cell_type": "code",
   "execution_count": 8,
   "id": "a9598804",
   "metadata": {},
   "outputs": [
    {
     "name": "stdout",
     "output_type": "stream",
     "text": [
      "Loaded 304350 embeddings of dimension 768\n"
     ]
    }
   ],
   "source": [
    "with np.load(npzfile) as data:\n",
    "    ids = data['ids']\n",
    "    embeddings = data['embeddings']\n",
    "print(f'Loaded {embeddings.shape[0]} embeddings of dimension {embeddings.shape[1]}')"
   ]
  },
  {
   "cell_type": "code",
   "execution_count": 9,
   "id": "977896f6",
   "metadata": {},
   "outputs": [
    {
     "data": {
      "text/plain": [
       "304350"
      ]
     },
     "execution_count": 9,
     "metadata": {},
     "output_type": "execute_result"
    }
   ],
   "source": [
    "lstnpz = []\n",
    "for id in ids:\n",
    "    lstnpz.append({'id': int(id), 'embedding': embeddings[id]})\n",
    "len(lstnpz)"
   ]
  },
  {
   "cell_type": "code",
   "execution_count": 10,
   "id": "31dd05ac",
   "metadata": {},
   "outputs": [
    {
     "data": {
      "text/plain": [
       "{'id': 0,\n",
       " 'embedding': array([ 1.73827901e-03, -2.86501776e-02, -1.04929414e-03,  3.66673851e-03,\n",
       "        -1.47453975e-02,  3.59708024e-03, -7.45207537e-04, -3.71312932e-03,\n",
       "         1.30137792e-02, -8.62511806e-03,  4.26352490e-03, -1.91094112e-02,\n",
       "         4.87805298e-03, -5.14652114e-03,  6.35775388e-04,  6.89417263e-03,\n",
       "         1.22776879e-02,  9.78220720e-03, -3.71215283e-03,  4.81559522e-02,\n",
       "         1.42198252e-02,  1.15909777e-03,  1.12511069e-02, -1.11234039e-02,\n",
       "         3.56185585e-02, -2.17604488e-02, -1.48913572e-02,  1.84146836e-02,\n",
       "        -8.38238187e-03, -2.66954023e-03, -6.40428439e-03,  5.01478836e-03,\n",
       "         4.43601422e-02,  1.53239071e-03,  1.06064312e-03,  3.14831897e-03,\n",
       "        -1.83265598e-03,  5.57996146e-03, -2.77008377e-02, -1.57998390e-02,\n",
       "        -1.05011733e-02,  1.07738981e-02, -2.46155038e-02,  6.32466655e-03,\n",
       "        -5.73626906e-03, -1.72179900e-02, -1.53014879e-03, -1.60140004e-02,\n",
       "        -9.03452933e-03, -3.33913714e-02,  1.98513884e-02,  3.62969749e-03,\n",
       "         2.57318048e-03, -1.33246684e-03, -1.89018119e-02, -2.30473513e-03,\n",
       "         1.66696552e-02,  7.59788789e-03,  1.89172216e-02,  2.07570661e-02,\n",
       "         1.13702891e-03, -8.94898549e-03, -2.51037278e-03,  1.57161895e-02,\n",
       "         3.29016568e-03, -1.84167437e-02, -5.56428160e-04,  1.84587482e-02,\n",
       "        -2.19630040e-02,  1.62880570e-02, -1.40244430e-02,  3.01542052e-04,\n",
       "         1.14474054e-02,  2.03447249e-02, -1.24442689e-02, -9.92800761e-03,\n",
       "        -1.01709960e-03,  1.10968500e-02, -1.37843890e-03, -1.97836244e-03,\n",
       "         2.88991872e-02, -4.15151520e-03,  2.30850801e-02, -2.84113875e-03,\n",
       "        -1.73507619e-03,  2.23319847e-02, -1.97056886e-02,  2.93668732e-02,\n",
       "        -1.34995664e-02,  1.00054862e-02, -2.19288282e-02, -1.09462244e-02,\n",
       "         7.36765750e-03,  2.19997074e-02,  1.87319070e-02, -8.69314000e-03,\n",
       "        -4.11424134e-03,  4.03393200e-03, -1.51686626e-03,  1.21075604e-02,\n",
       "         1.21744657e-02,  6.20559277e-03, -2.27653645e-02,  3.37155797e-02,\n",
       "        -1.59839969e-02,  6.06148737e-04, -2.66363584e-02,  2.44255364e-02,\n",
       "         2.11810675e-02,  1.05449157e-02,  1.75049677e-02, -1.43099222e-02,\n",
       "         7.13626109e-03,  3.41210351e-03, -2.13318616e-02,  1.24186755e-03,\n",
       "         5.09959692e-03, -1.83058698e-02, -7.24783726e-03,  3.43186711e-03,\n",
       "        -2.11007171e-03, -2.16744505e-02,  3.67784291e-03,  7.13069830e-03,\n",
       "        -1.41800949e-02,  4.17112513e-03, -1.05435466e-02,  3.79703753e-03,\n",
       "         1.51179358e-02, -9.96252615e-03,  8.00193939e-03, -1.47343113e-03,\n",
       "         2.99113849e-03,  1.26417750e-03, -2.63146702e-02, -2.93226019e-02,\n",
       "        -2.60948949e-02,  1.21203158e-03,  5.14786365e-03,  3.42904532e-04,\n",
       "         2.09362861e-02,  1.03305718e-02, -4.49856464e-03, -1.30108688e-02,\n",
       "        -7.93882832e-03,  1.33700119e-02, -6.45977166e-03,  3.68177444e-02,\n",
       "        -2.08581779e-02,  2.39816937e-03,  2.17160415e-02,  6.58488786e-03,\n",
       "         3.84147279e-03,  9.33129154e-03, -2.15575453e-02, -5.80020715e-03,\n",
       "        -7.39619555e-03,  5.68804238e-03,  7.82316737e-03, -2.78694294e-02,\n",
       "         2.66078170e-02,  5.18376613e-03,  2.60137971e-02,  7.93054700e-03,\n",
       "         8.71088728e-03,  3.30546573e-02,  6.49839756e-04,  4.75100940e-03,\n",
       "         2.40687164e-03,  4.55658231e-03, -1.60646271e-02, -2.14189980e-02,\n",
       "         3.64612875e-04, -1.05597135e-02, -1.41024506e-02,  4.02556639e-03,\n",
       "         1.68787502e-02,  1.89161841e-02, -1.15279714e-02,  5.47122257e-03,\n",
       "         7.06078205e-03,  8.17788020e-03, -7.94146489e-03, -3.51260812e-03,\n",
       "         2.37536915e-02,  5.02329506e-03,  1.19192563e-02, -4.63798502e-03,\n",
       "        -1.78752036e-03,  2.93921214e-03,  8.38186964e-03, -6.54747826e-04,\n",
       "        -3.28719872e-03,  1.70743875e-02, -2.35676719e-03, -8.50957725e-03,\n",
       "         5.12710726e-03,  8.67945701e-03, -3.40762399e-02,  1.41957067e-02,\n",
       "         2.83778273e-03,  8.53204634e-03, -1.16714248e-02, -1.07711433e-02,\n",
       "         7.50433002e-03, -3.57730016e-02, -2.08366998e-02,  3.08377296e-03,\n",
       "         9.20753647e-03, -2.04104353e-02, -1.93155278e-02,  3.41447978e-03,\n",
       "         1.54937210e-03,  7.90106226e-03,  1.20535763e-02,  2.65488052e-03,\n",
       "         5.15150139e-03, -5.13988733e-03,  3.21744545e-03,  4.74611326e-04,\n",
       "        -5.05232252e-03,  8.14497843e-03, -1.30050173e-02,  1.02671031e-02,\n",
       "        -2.02136412e-02,  1.52969416e-02, -9.47054662e-03,  1.21960556e-02,\n",
       "         6.79753115e-03,  7.08858762e-03, -6.61025802e-03, -1.21847102e-02,\n",
       "         1.56854168e-02, -9.36536118e-03,  3.16223758e-03, -1.16523737e-02,\n",
       "         2.99582700e-03,  5.41975070e-03,  1.46399066e-02, -1.23350462e-02,\n",
       "        -1.46017727e-02, -1.66761409e-02, -5.43059595e-03, -7.12509919e-03,\n",
       "         2.91354917e-02, -6.16797106e-03,  4.03113328e-02,  3.34917801e-03,\n",
       "         2.48256475e-02,  5.59193129e-03, -2.47418578e-03,  1.58989895e-03,\n",
       "         3.61318165e-03, -5.28468378e-03, -1.88367534e-03, -2.69426801e-03,\n",
       "         1.63736213e-02, -1.21893482e-02, -1.22699570e-02,  3.34386062e-03,\n",
       "        -6.34362129e-03,  9.06786975e-03, -1.26925576e-02,  1.33673009e-02,\n",
       "        -7.65087921e-03,  2.24938411e-02,  6.10959530e-03,  1.98411122e-02,\n",
       "         1.45867364e-02, -2.65405923e-02, -2.31903605e-02,  1.24076810e-02,\n",
       "        -4.96351346e-03, -1.89913232e-02, -1.37755147e-03,  8.04251153e-03,\n",
       "         2.03266349e-02,  1.24761835e-02,  1.19840233e-02,  1.50894085e-02,\n",
       "        -1.68511691e-03,  7.65710929e-03, -2.80427448e-02,  2.46165576e-03,\n",
       "         7.88162090e-03, -4.79222601e-03, -9.17613227e-03, -1.12364823e-02,\n",
       "         1.08987726e-02,  1.14054335e-02, -1.10361353e-03,  1.56762954e-02,\n",
       "         3.66486260e-03, -9.13147349e-03,  5.87994559e-03, -1.49002867e-02,\n",
       "        -6.11596508e-03,  1.13607170e-02,  1.26410611e-02, -1.23294173e-02,\n",
       "        -1.47893224e-02,  6.21119700e-03,  5.44069428e-03, -2.80480273e-03,\n",
       "         6.09538110e-04,  5.22824982e-03,  1.36598730e-02,  1.27612771e-02,\n",
       "        -2.69356519e-02, -2.37443042e-03, -5.18292747e-03,  1.02755800e-02,\n",
       "         4.94443206e-03, -3.37799639e-02,  1.39926011e-02, -2.77772034e-03,\n",
       "         8.69187247e-03, -1.13790045e-02,  2.96880268e-02, -2.77376585e-02,\n",
       "         1.43789332e-02,  2.25548558e-02,  1.58879608e-02,  7.22848903e-03,\n",
       "         1.17307517e-03, -1.18466541e-02, -4.13765479e-03,  1.80554464e-02,\n",
       "        -2.90744682e-03,  7.60208629e-03, -1.25824064e-02, -9.10679251e-03,\n",
       "         5.20074791e-05,  1.15458583e-02,  4.45506442e-03,  2.44879420e-03,\n",
       "        -3.99068790e-03,  1.21648684e-02, -1.81960147e-02,  1.29256314e-02,\n",
       "        -3.80536867e-03,  1.44313816e-02, -3.52575607e-03,  1.21349073e-03,\n",
       "         5.89567004e-03, -1.40139768e-02,  5.68549894e-03,  1.56224929e-02,\n",
       "         4.92841413e-04,  3.28102820e-02,  6.95196539e-03, -1.24163758e-02,\n",
       "         9.87944752e-03, -3.30333561e-02,  8.62182491e-03,  1.38668533e-04,\n",
       "        -1.72893621e-03, -8.65829829e-03,  5.98948682e-03, -6.31839223e-03,\n",
       "         4.88341739e-03,  2.06372123e-02,  5.18665314e-02, -1.25394028e-03,\n",
       "         9.84361488e-03, -1.16553260e-02, -1.95996277e-03,  8.92231401e-05,\n",
       "        -1.53029477e-03,  1.03460271e-02,  2.50521190e-02, -2.58394349e-02,\n",
       "        -2.94109378e-02,  2.11548284e-02,  2.62776520e-02, -1.59776025e-02,\n",
       "        -1.18403975e-02, -1.79212522e-02,  1.14070484e-02, -6.93049456e-04,\n",
       "        -1.68131571e-02, -3.89313605e-03,  9.43350885e-03,  1.75550077e-02,\n",
       "         8.80700629e-03,  1.55563625e-02,  8.41610227e-03, -2.03240775e-02,\n",
       "        -1.08865136e-02,  4.41902550e-03,  7.63739971e-03, -1.46239642e-02,\n",
       "         2.37749871e-02,  3.59957980e-04,  1.28762964e-02, -3.94318858e-03,\n",
       "         3.52644100e-04,  6.07401459e-03, -2.52297334e-03, -1.01012848e-02,\n",
       "        -1.85865238e-02,  1.19635118e-02, -1.25588924e-02, -1.53414644e-02,\n",
       "        -5.58730867e-03, -3.30639794e-03, -7.69367767e-03,  5.70146501e-01,\n",
       "        -5.23761101e-03,  1.32660603e-03,  8.65763985e-03, -5.75516431e-04,\n",
       "        -1.53332278e-02, -7.80768041e-03,  1.38255982e-02,  1.41494870e-02,\n",
       "        -1.11216605e-02,  9.00653657e-03,  1.02090565e-02,  2.80515775e-02,\n",
       "         8.18448607e-03, -2.49147844e-02, -1.37309562e-02,  1.34168211e-02,\n",
       "        -9.17901099e-03,  2.28805374e-02,  1.80986337e-03, -1.24652982e-02,\n",
       "         3.50689702e-02,  1.62847582e-02, -1.90010872e-02, -1.33691188e-02,\n",
       "        -1.01641025e-02, -6.67405548e-04,  1.33172320e-02,  7.58445589e-03,\n",
       "         1.87865105e-02, -8.75311252e-03,  2.21128743e-02, -4.67105908e-03,\n",
       "        -1.21734040e-02,  4.44677006e-03, -9.42323357e-03,  1.32757500e-02,\n",
       "         5.33350743e-03, -1.82261914e-02, -2.13320740e-02,  2.00565048e-02,\n",
       "        -1.53884143e-02,  1.44843478e-03, -1.02436272e-02, -6.01448771e-03,\n",
       "         2.93941423e-02, -9.77061689e-03, -1.61328912e-02,  1.66351814e-03,\n",
       "         6.70317444e-04, -1.00737792e-02,  9.56149586e-03,  1.88024603e-02,\n",
       "        -1.49123473e-02, -1.84493416e-04, -1.55804092e-02, -6.37031067e-03,\n",
       "        -2.42250771e-05,  1.64925791e-02,  7.57042877e-03,  1.56277325e-02,\n",
       "        -6.93141297e-03, -1.71643216e-02,  9.81251057e-03, -2.78520137e-02,\n",
       "         5.16727660e-03,  1.58820283e-02,  7.41385715e-03, -1.92587189e-02,\n",
       "        -6.14827871e-03, -3.11836973e-03,  5.71188983e-03,  1.05500864e-02,\n",
       "         1.35457981e-02, -1.14254449e-02,  1.63660944e-02,  5.40575804e-03,\n",
       "         7.81349000e-03,  7.18232524e-03, -1.81400534e-02,  1.51516506e-02,\n",
       "        -3.24468315e-03, -1.42331654e-02,  1.27477907e-02,  2.92758457e-03,\n",
       "         8.52767099e-03, -2.64583807e-03,  1.59020312e-02,  2.35384498e-02,\n",
       "        -5.37290843e-03, -2.30081920e-02,  8.18022434e-03,  1.28484471e-02,\n",
       "         7.97101017e-03,  2.41390313e-03,  8.82630516e-03,  2.72487979e-02,\n",
       "         1.56768039e-02,  1.57792997e-02,  5.77738415e-03, -1.40863762e-03,\n",
       "         1.74226630e-02, -1.64966248e-02, -6.35814015e-03,  2.54805256e-02,\n",
       "         1.26582002e-02,  8.27191211e-03, -1.18083265e-02, -4.27932758e-03,\n",
       "        -5.48451627e-03, -1.72354151e-02,  7.44139543e-03, -1.14765139e-02,\n",
       "        -3.78051028e-03,  9.92325507e-03,  3.09176091e-03, -1.25694918e-02,\n",
       "        -3.06177437e-02,  1.67094022e-02,  2.37521017e-03,  7.70994835e-03,\n",
       "        -2.20747981e-02, -3.46080177e-02,  2.85644587e-02,  2.56957859e-02,\n",
       "         9.02567524e-03,  1.83700994e-02, -1.92284286e-02, -4.41327319e-03,\n",
       "        -8.24410643e-04,  5.02129132e-03, -9.87181161e-03,  1.62503263e-03,\n",
       "         1.55684482e-02, -1.83708314e-02,  2.17077825e-02,  1.84024894e-03,\n",
       "         3.63459401e-02,  2.50825882e-02, -1.81599613e-02, -7.25758821e-03,\n",
       "        -5.22348750e-03, -2.17388496e-02,  1.91104431e-02, -2.41073337e-03,\n",
       "        -1.08545246e-02,  1.44031411e-02,  9.77505837e-03,  1.31438732e-01,\n",
       "         1.10454392e-02, -2.18205526e-03,  1.02775386e-02, -7.74849439e-03,\n",
       "        -6.80619059e-03,  1.91722735e-04,  1.28860644e-03,  2.35695876e-02,\n",
       "        -1.76064223e-02,  8.02256353e-03,  4.19245160e-04,  6.28987281e-03,\n",
       "        -5.41335577e-03, -1.06362170e-02,  1.53539237e-02,  1.21939089e-03,\n",
       "         1.59623120e-02,  1.72720868e-02, -5.57121774e-03, -1.69006139e-02,\n",
       "         1.40001706e-03,  1.55056072e-02,  8.37740675e-03,  1.38378320e-02,\n",
       "        -3.43882106e-03,  1.10890986e-02, -3.13943066e-02, -8.79130734e-04,\n",
       "        -6.88216556e-03, -5.92690939e-03, -1.10528455e-03,  1.03004212e-02,\n",
       "        -2.46345960e-02, -1.92600563e-02, -1.32470124e-03, -1.61808971e-02,\n",
       "         2.03368370e-03,  1.02141332e-02,  8.52381159e-03,  1.01574017e-02,\n",
       "         5.38974116e-03, -3.28108482e-02,  8.39906652e-03,  2.13560164e-02,\n",
       "        -1.47091961e-02, -3.12104169e-03, -7.28984131e-03,  4.41736513e-04,\n",
       "        -1.80651317e-03, -2.36544898e-03,  1.49071077e-02,  1.85132418e-02,\n",
       "        -3.57529661e-03, -1.94046684e-02, -5.92794083e-03, -2.85002142e-02,\n",
       "         3.22273141e-03,  5.79438219e-03,  4.16680094e-04, -4.44050552e-03,\n",
       "        -9.51355603e-03,  1.00975418e-02, -3.02326423e-03,  1.00828439e-03,\n",
       "         1.42686768e-02, -1.74478348e-02,  6.86503900e-03,  5.50887967e-03,\n",
       "         2.36266945e-03,  3.50630679e-03,  1.02213994e-02,  8.07855185e-03,\n",
       "        -9.60854068e-03,  8.35704803e-03, -1.53898550e-02, -2.26106159e-02,\n",
       "        -2.13407353e-03,  4.36582183e-03,  1.12052141e-02,  3.91833251e-03,\n",
       "         1.48949316e-02, -1.18374359e-02,  1.38275083e-02,  2.39814557e-02,\n",
       "         9.68371809e-04, -5.03692427e-04, -6.37348816e-02, -5.31043112e-03,\n",
       "         1.51824793e-02,  7.04037631e-03, -1.88997108e-02, -9.30197351e-03,\n",
       "        -3.89065258e-02, -8.08671769e-03, -1.07327513e-02, -9.01501533e-03,\n",
       "         1.06550893e-03,  3.34052974e-03,  1.84602831e-02,  1.02551477e-02,\n",
       "         1.11379512e-02,  7.50100100e-03,  1.90003868e-03, -5.10330778e-03,\n",
       "        -9.29127634e-03, -4.61637508e-03,  6.79526012e-03,  2.30947342e-02,\n",
       "        -1.11948443e-03,  1.84939392e-02,  1.00470055e-02, -5.78312539e-02,\n",
       "        -2.51028147e-02,  6.26580836e-03, -1.26622999e-02,  1.62665900e-02,\n",
       "         2.48670275e-03,  9.81669780e-03, -8.69459752e-03, -3.56725580e-03,\n",
       "         2.03134809e-02,  2.45922282e-02, -3.71520617e-03, -8.67758319e-03,\n",
       "        -7.78319919e-03,  1.70121975e-02,  7.55157135e-03,  1.36389928e-02,\n",
       "        -1.46025494e-02,  9.69585218e-03, -6.22386485e-03, -1.11783864e-02,\n",
       "        -1.72899254e-02, -3.59717733e-03,  7.14677502e-04, -4.88590216e-03,\n",
       "        -1.52101722e-02, -2.64319358e-03,  3.35950926e-02, -1.41605455e-03,\n",
       "         8.30295868e-03, -7.92212691e-03, -5.28796064e-03,  1.27601437e-02,\n",
       "         1.10687409e-02,  3.66752269e-03,  1.45041337e-02,  2.03755428e-03,\n",
       "         1.26147913e-02,  5.89474151e-03, -3.27870686e-04,  7.85981864e-03,\n",
       "         1.44037111e-02,  6.40323805e-03,  1.84276374e-04, -8.40156153e-03,\n",
       "         3.29365954e-02, -2.38691177e-03, -1.96150853e-03, -7.83357769e-03,\n",
       "         2.71136803e-03,  1.47231342e-02, -2.26182002e-03, -8.06730893e-03,\n",
       "         2.34823565e-05,  8.75355396e-03, -1.62265301e-02, -2.49971380e-03,\n",
       "         4.39160177e-03, -2.62204651e-03,  3.03243194e-02, -1.60938129e-02,\n",
       "        -8.97078402e-03, -2.68109422e-03, -2.82129571e-02,  7.08135188e-01,\n",
       "        -6.96494570e-03, -8.87117907e-03,  3.05981059e-02, -9.82302334e-03,\n",
       "         6.43305480e-03, -4.43495577e-03, -8.82994849e-03, -1.29710408e-02,\n",
       "        -6.94363005e-03, -2.00348310e-02, -2.42184084e-02, -9.80085321e-03,\n",
       "         6.26139948e-03, -3.74424644e-03, -2.00625299e-03,  2.55439356e-02,\n",
       "        -8.39555822e-03,  3.55297583e-03, -1.56712513e-02, -8.99062492e-03,\n",
       "         8.39147251e-03, -6.63328264e-03, -1.22557515e-02,  6.12234510e-03,\n",
       "         4.76843072e-03, -2.22216157e-04,  1.13064554e-02, -9.03809536e-03,\n",
       "        -2.24296805e-02, -2.89025009e-02, -1.54534299e-02,  1.07964724e-02,\n",
       "         1.35990866e-02,  1.78170595e-02,  7.25885062e-03,  8.15685838e-03],\n",
       "       dtype=float32)}"
      ]
     },
     "execution_count": 10,
     "metadata": {},
     "output_type": "execute_result"
    }
   ],
   "source": [
    "lstnpz[0]"
   ]
  },
  {
   "cell_type": "code",
   "execution_count": null,
   "id": "3874b5bd",
   "metadata": {},
   "outputs": [],
   "source": [
    "df = pd.read_parquet(pqfile)\n",
    "# drop na values of title and content\n",
    "df2 = df[(df.lang_code == 'ko') & (df.src == '3PTY')].dropna(subset=['title', 'content']).reset_index(drop=True).copy()\n",
    "\n",
    "\n",
    "rec = df2.iloc[0]\n",
    "text = f\"{rec['title'].encode('utf-8')}\\n\\n{rec['content'].encode('utf-8')}\"\n",
    "\n",
    "inputs = tokenizer(\n",
    "                text,\n",
    "                padding=True,\n",
    "                truncation=True,\n",
    "                max_length=9048,\n",
    "                return_tensors=\"pt\",\n",
    "            )\n",
    "\n",
    "inputs = {k: v for k, v in inputs.items()}\n",
    "\n",
    "text_embedding = model(inputs)\n",
    "npz_embedding = lstnpz[0]['embedding']\n",
    "\n",
    "# for rec2 in lstnpz:\n",
    "#     npz_embedding = rec2['embedding']\n",
    "\n",
    "#     #compare the two embeddings\n",
    "#     if np.allclose(text_embedding, npz_embedding):\n",
    "#         print(f\"Match found for id {rec2['id']}\")\n",
    "#         break"
   ]
  },
  {
   "cell_type": "code",
   "execution_count": 11,
   "id": "a9b725af",
   "metadata": {},
   "outputs": [],
   "source": [
    "\n",
    "# Cell 1: Setup\n",
    "import os\n",
    "import pandas as pd\n",
    "import numpy as np\n",
    "import torch\n",
    "from pathlib import Path\n",
    "import pyarrow.parquet as pq\n",
    "from transformers import AutoTokenizer, AutoModel, AutoConfig"
   ]
  },
  {
   "cell_type": "code",
   "execution_count": 12,
   "id": "3117aea7",
   "metadata": {},
   "outputs": [],
   "source": [
    "\n",
    "\n",
    "# Optional: reduce tokenizers' CPU threading like the script\n",
    "os.environ.setdefault(\"TOKENIZERS_PARALLELISM\", \"false\")\n",
    "\n",
    "FILTER_SRC = \"3PTY\"\n",
    "FILTER_LANG = \"ko\"\n",
    "normalize_embeddings = True   # same as script's normalize_embeddings\n",
    "torch_dtype = \"auto\"          # \"auto\", \"float16\", \"bfloat16\", \"float32\"\n",
    "user_max_length = None        # None to mirror script's logic\n",
    "batch_size = 1024             # adjust to your VRAM (script uses per-GPU batch)\n",
    "\n",
    "device = torch.device(\"cuda:0\" if torch.cuda.is_available() else \"cpu\")\n",
    "\n",
    "def parse_torch_dtype(dtype_str):\n",
    "    if dtype_str is None or dtype_str == \"auto\": return None\n",
    "    s = str(dtype_str).lower()\n",
    "    if s in (\"fp16\", \"float16\", \"half\"): return torch.float16\n",
    "    if s in (\"bf16\", \"bfloat16\"): return torch.bfloat16\n",
    "    if s in (\"fp32\", \"float32\"): return torch.float32\n",
    "    return None\n",
    "\n"
   ]
  },
  {
   "cell_type": "code",
   "execution_count": 13,
   "id": "aefb469f",
   "metadata": {},
   "outputs": [
    {
     "data": {
      "text/plain": [
       "device(type='cpu')"
      ]
     },
     "execution_count": 13,
     "metadata": {},
     "output_type": "execute_result"
    }
   ],
   "source": [
    "device"
   ]
  },
  {
   "cell_type": "code",
   "execution_count": 14,
   "id": "70910a73",
   "metadata": {},
   "outputs": [
    {
     "name": "stdout",
     "output_type": "stream",
     "text": [
      "Effective max_length: 2048\n"
     ]
    }
   ],
   "source": [
    "\n",
    "tokenizer = AutoTokenizer.from_pretrained(model_path, trust_remote_code=True, use_fast=True)\n",
    "\n",
    "target_dtype = parse_torch_dtype(torch_dtype)\n",
    "\n",
    "# Try the straightforward load (single device)\n",
    "model = AutoModel.from_pretrained(\n",
    "    model_path,\n",
    "    trust_remote_code=True,\n",
    "    low_cpu_mem_usage=True,\n",
    "    torch_dtype=target_dtype if target_dtype is not None else None,\n",
    "    # device_map={\"\": device.type if device.type == \"cpu\" else device},  # works for single device\n",
    ")\n",
    "model.eval()\n",
    "\n",
    "# Match script's max_length logic\n",
    "def get_effective_max_length(tokenizer, user_max_length=None):\n",
    "    if user_max_length is None or (isinstance(user_max_length, int) and user_max_length <= 0):\n",
    "        tok_max = getattr(tokenizer, \"model_max_length\", 2048)\n",
    "        if tok_max is None or tok_max > 8192 or tok_max == int(1e30):\n",
    "            return 4096\n",
    "        return int(tok_max)\n",
    "    return int(user_max_length)\n",
    "\n",
    "max_length = get_effective_max_length(tokenizer, user_max_length)\n",
    "print(\"Effective max_length:\", max_length)\n"
   ]
  },
  {
   "cell_type": "code",
   "execution_count": 15,
   "id": "20ac0fba",
   "metadata": {},
   "outputs": [
    {
     "name": "stdout",
     "output_type": "stream",
     "text": [
      "Total filtered rows: 304350\n"
     ]
    }
   ],
   "source": [
    "\n",
    "# Cell 3: Embedding helper that mirrors the script\n",
    "@torch.no_grad()\n",
    "def encode_texts(texts, batch_size=32, normalize=True):\n",
    "    outs = []\n",
    "    for i in range(0, len(texts), batch_size):\n",
    "        batch = texts[i:i+batch_size]\n",
    "        inputs = tokenizer(\n",
    "            batch,\n",
    "            padding=True,\n",
    "            truncation=True,\n",
    "            max_length=max_length,\n",
    "            return_tensors=\"pt\",\n",
    "        )\n",
    "        inputs = {k: v.to(device) for k, v in inputs.items()}\n",
    "        outputs = model(**inputs)\n",
    "\n",
    "        if hasattr(outputs, \"pooler_output\") and outputs.pooler_output is not None:\n",
    "            emb = outputs.pooler_output  # [B, H]\n",
    "        else:\n",
    "            last_hidden = outputs.last_hidden_state  # [B, T, H]\n",
    "            mask = inputs[\"attention_mask\"].unsqueeze(-1).to(last_hidden.dtype)  # [B, T, 1]\n",
    "            summed = (last_hidden * mask).sum(dim=1)  # [B, H]\n",
    "            counts = mask.sum(dim=1).clamp(min=1e-6)  # [B, 1]\n",
    "            emb = summed / counts\n",
    "\n",
    "        if normalize:\n",
    "            emb = torch.nn.functional.normalize(emb, p=2, dim=1)\n",
    "\n",
    "        outs.append(emb.detach().float().cpu().numpy())\n",
    "\n",
    "    return np.concatenate(outs, axis=0) if outs else np.empty((0, 0), dtype=np.float32)\n",
    "\n",
    "pf = pq.ParquetFile(pqfile)\n",
    "texts = []\n",
    "\n",
    "for rg_idx in range(pf.num_row_groups):\n",
    "    table = pf.read_row_group(rg_idx, columns=[\"title\", \"content\", \"src\", \"lang_code\"])\n",
    "    if table.num_rows == 0:\n",
    "        continue\n",
    "\n",
    "    df = table.to_pandas()  # preserves row order within the row group\n",
    "    mask = (\n",
    "        df[\"title\"].notna() &\n",
    "        df[\"content\"].notna() &\n",
    "        (df[\"src\"] == FILTER_SRC) &\n",
    "        (df[\"lang_code\"] == FILTER_LANG)\n",
    "    )\n",
    "    df = df[mask]\n",
    "    if len(df) == 0:\n",
    "        continue\n",
    "\n",
    "    # Mirror polars' cast to Utf8 by forcing string\n",
    "    batch_texts = (df[\"title\"].astype(str) + \"\\n\\n\" + df[\"content\"].astype(str)).tolist()\n",
    "    texts.extend(batch_texts)\n",
    "\n",
    "N = len(texts)\n",
    "print(f\"Total filtered rows: {N}\")\n"
   ]
  },
  {
   "cell_type": "code",
   "execution_count": 16,
   "id": "6b4983b4",
   "metadata": {},
   "outputs": [],
   "source": [
    "def rowwise_cosine(a, b, eps=1e-12):\n",
    "    # If not normalized, normalize here\n",
    "    an = a / (np.linalg.norm(a, axis=1, keepdims=True) + eps)\n",
    "    bn = b / (np.linalg.norm(b, axis=1, keepdims=True) + eps)\n",
    "    return np.sum(an * bn, axis=1)  # cosine similarity in [-1, 1]"
   ]
  },
  {
   "cell_type": "code",
   "execution_count": 17,
   "id": "9a928f38",
   "metadata": {},
   "outputs": [
    {
     "data": {
      "text/plain": [
       "['대한항공, 뉴욕 취항 45주년 기념 행사…왕복 항공권 주인공 누구?\\n\\nFor best results when printing this announcement, please click on link below:\\nhttp://newsfile.refinitiv.com/getnewsfile/v1/story?guid=urn:newsml:reuters.com:20240401:nMtd4JbG8V&default-theme=true\\n\\n[머니투데이 임찬영 기자]\\n                                                                                                                                                                                                                                                                                                                                                                                                                                        \\n 대한항공이 지난달 29일(현지시간) 오전 뉴욕 존F.케네디(JFK) 국제공항에서 탑승객 대상 기념 행사를 가지고 인천행 대한항공 KE082편 45번째 탑승수속 승객에게 인천~뉴욕 왕복 프레스티지 항공권 1매를 증정했다. 사진은 항공권 당첨자 김지현씨(가운데)와 대한항공 관계자들이 기념사진을 촬영하는 모습/사진= 대한항공                                                                                                                                                                                                                                                    \\n대한항공이 미국 뉴욕 노선 취항 45주년 기념행사를\\n열었다고 1일 밝혔다. 대한항공은 지난달 29일(현지시간)\\n오전 뉴욕 존F.케네디(JFK) 국제공항에서 탑승객 대상\\n기념행사를 가졌다. 이날 인천행 대한항공 KE082편 45번째\\n탑승수속 승객에게 인천~뉴욕 왕복 프레스티지 항공권\\n1매를 증정했다. 항공권 당첨 주인공 김지현씨는\\n\"생각지도 못한 행운에 너무 놀랐다. 평생 대한항공만\\n이용했는데 앞으로도 쭉 이용할 것 같다\"고 말했다.\\n대한항공은 이날 KE082편 탑승객 전원에게 뉴욕 취항\\n45주년을 맞아 특별 제작한 에코백도 증정했다. 에코백은\\n미국 뉴욕 비영리 문화예술 단체\\n뉴욕한인예술인협회(KANA·카나)와 협업해 뉴욕 취항\\n45주년을 모티브로 디자인했다. 오는 4일 오후 뉴욕\\n맨해튼에서는 이진호 대한항공 미주지역본부장, 현지 주요\\n인사와 대리점 관계자들이 참석하는 기념행사를 개최할\\n예정이다. 대한항공은 1979년 3월 29일 서울~뉴욕 정기\\n여객편을 처음으로 띄웠다. 첫 뉴욕행 여객기 KE008편은\\n김포공항을 출발해 중간 기착지인 미국 앵커리지를 거쳐\\n15시간10분 만에 뉴욕 JFK 공항에 도착했다. 대한항공 뉴욕\\n노선은 우리나라와 미국 동부 지역을 1일 교역권으로\\n좁히는 역할을 했다. 이를 통해 우리나라 산업 발전에 크게\\n기여했다는 평가를 받는다. 해외 교류가 드물었던 당시\\n미국 현지 동포들에게는 조국으로 날아갈 수 있는 거의\\n유일한 수단이기도 했다. 뉴욕 노선은 개설 초기 주 3회\\n운항하다 1986년도부터 주 10회로 증편했고 현재는 주 14회\\n운항 중이다. 지난해 총탑승객 수는 41만 7920명으로 미주\\n노선에서 두 번째로 많은 승객을 실어 날랐다. 뉴욕\\n노선에는 에어버스 A380, 보잉 747-8i 등 대형기가 투입된다.\\n[관련기사]\\n☞ &#034;당사자 본인은 입 닫고…&#034; &#39;결별&#39; 한소희,\\n이젠 류준열도 저격\\n(https://news.mt.co.kr/mtview.php?no=2024033108275032286&EMBE)\\n☞ &#034;재산 쪽쪽 빨려&#034; 서유리, 최병길 PD와 이혼\\n발표…과거 발언 보니\\n(https://news.mt.co.kr/mtview.php?no=2024033115312073827&EMBE)\\n☞ &#034;내 남편 편히 즐겨요&#034; 황정음, SNL서 불륜 저격\\n(https://news.mt.co.kr/mtview.php?no=2024033107303360343&EMBE)\\n☞ 이상민, 69억 빚 청산 아니었다?…은행 직원 &#034;다시\\n압류 대상&#034;\\n(https://news.mt.co.kr/mtview.php?no=2024040105101758769&EMBE)\\n☞ &#39;1520억원 사나이&#39; 이정후 어머니가 원하는\\n며느리상은?\\n(https://news.mt.co.kr/mtview.php?no=2024040107522562469&EMBE)\\n\\n임찬영 기자 chan02@mt.co.kr ⓒ 머니투데이 & mt.co.kr, 무단 전재\\n및 재배포 금지\\n',\n",
       " '기아, 중고생 대상 판교테크노밸리 진로투어 모집\\n\\nFor best results when printing this announcement, please click on link below:\\nhttp://newsfile.refinitiv.com/getnewsfile/v1/story?guid=urn:newsml:reuters.com:20240331:nMtd2YHt2w&default-theme=true\\n\\n[머니투데이 이태성 기자]\\n   \\n   \\n기아가 전국 중·고등학생을 대상으로 진행하는\\n&#039;판교테크노밸리 진로투어&#039; 프로그램 참가자를\\n1일부터 12일까지 모집한다고 밝혔다. &#039;판교테크노밸리\\n진로투어&#039;는 미래세대 육성을 위해 기아가 진행하는\\n청소년 대상 사회공헌활동 &#039;기아 인스파이어링\\n클래스(Kia Inspiring Class)&#039;의 일환으로 글로벌 융복합\\nR&D 허브인 판교테크노밸리 주요 기업들을 견학하며\\n청소년들에게 미래 첨단산업 분야의 진로 탐색 기회를\\n제공한다. 기아는 △판교테크노밸리에 위치한 주요 기관\\n및 기업을 방문하는 버스 투어 △미래 첨단산업 분야 전문\\n기업인 직무 멘토링 △IT 분야 전문 기관 기술 체험 등\\n청소년들이 교실에서 배우기 어려운 산업 현장의 분위기를\\n경험할 수 있도록 도울 예정이다. 특히 올해는 지난해보다\\n운영 차수와 모집 규모를 확대해 더 많은\\n중·고등학생들에게 진로 탐방 기회를 제공한다. 5월부터\\n10월까지 전년보다 8회 증가한 총 20회를 운영하며 참가\\n인원은 전년 대비 245명 증가한 600명을 모집한다. 더불어\\n진로 체험의 기회에서 소외될 수 있는 지역아동센터,\\n보육원 청소년을 위한 특별 프로그램도 마련한다.\\n여름방학 기간을 활용해 8월 중 &#039;기아 플래그십\\n스토어&#039;, &#039;기아 360&#039;을 견학하는 &#039;기아 거점\\n투어 프로그램&#039;을 편성해 진로 체험 기회를 제공할\\n예정이다. &#039;판교테크노밸리 진로투어&#039; 참가는 홍보\\n포스터 내 QR코드를 통해 신청할 수 있고 학급별 단체\\n접수를 받는다. 학급 당 최대 30명까지 접수 가능하며 지방\\n및 농산어촌 지역 학교를 우선 선발한다. 기아 관계자는\\n\"청소년들이 꿈을 찾아갈 수 있도록 도움이 되고자\\n다양한 프로그램을 마련했다\"며 \"앞으로도\\n미래세대가 스스로 진로 설계를 할 수 있도록 지원을\\n아끼지 않을 것\"이라고 밝혔다. 한편, &#039;기아\\n인스파이어링 클래스&#039;는 청소년을 대상으로 진로\\n탐색의 기회를 제공하는 진로 교육 프로그램으로\\n&#039;판교테크노밸리 진로투어&#039;를 비롯해 미래\\n첨단산업 분야를 체험할 수 있는 &#039;미래테크\\n진로교실&#039;, 환경 분야 전문가 멘토링이 포함된\\n&#039;그린체인저 서포터즈&#039; 등 3가지 프로그램으로\\n진행된다.\\n[관련기사]\\n☞ &#034;당사자 본인은 입 닫고…&#034; &#39;결별&#39; 한소희,\\n이젠 류준열도 저격\\n(https://news.mt.co.kr/mtview.php?no=2024033108275032286&EMBE)\\n☞ &#034;재산 쪽쪽 빨려&#034; 서유리, 최병길 PD와 이혼\\n발표…과거 발언 보니\\n(https://news.mt.co.kr/mtview.php?no=2024033115312073827&EMBE)\\n☞ &#034;내 남편 편히 즐겨요&#034; 황정음, SNL서 불륜 저격\\n(https://news.mt.co.kr/mtview.php?no=2024033107303360343&EMBE)\\n☞ 이상민, 69억 빚 청산 아니었다?…은행 직원 &#034;다시\\n압류 대상&#034;\\n(https://news.mt.co.kr/mtview.php?no=2024040105101758769&EMBE)\\n☞ &#39;1520억원 사나이&#39; 이정후 어머니가 원하는\\n며느리상은?\\n(https://news.mt.co.kr/mtview.php?no=2024040107522562469&EMBE)\\n\\n이태성 기자 lts320@mt.co.kr ⓒ 머니투데이 & mt.co.kr, 무단 전재\\n및 재배포 금지\\n']"
      ]
     },
     "execution_count": 17,
     "metadata": {},
     "output_type": "execute_result"
    }
   ],
   "source": [
    "texts[0:2]"
   ]
  },
  {
   "cell_type": "code",
   "execution_count": 31,
   "id": "08624c8c",
   "metadata": {},
   "outputs": [
    {
     "name": "stdout",
     "output_type": "stream",
     "text": [
      "Embeddings shape: (100, 768)\n"
     ]
    }
   ],
   "source": [
    "# Cell 5: Compute embeddings and save NPZ (to compare with the script's output)text\n",
    "texts_embeddings = encode_texts(texts[0:100], batch_size=batch_size, normalize=normalize_embeddings)\n",
    "print(\"Embeddings shape:\", texts_embeddings.shape)"
   ]
  },
  {
   "cell_type": "code",
   "execution_count": 24,
   "id": "e058efb0",
   "metadata": {},
   "outputs": [
    {
     "name": "stdout",
     "output_type": "stream",
     "text": [
      "Embeddings shape: (10, 768)\n"
     ]
    }
   ],
   "source": [
    "texts_embeddings2 = encode_texts(texts[0:10], batch_size=batch_size, normalize=normalize_embeddings)\n",
    "print(\"Embeddings shape:\", texts_embeddings2.shape)"
   ]
  },
  {
   "cell_type": "code",
   "execution_count": 32,
   "id": "a4f601aa",
   "metadata": {},
   "outputs": [],
   "source": [
    "results = []\n",
    "for i in range(100):\n",
    "    for j in range(100):\n",
    "        cosine_sim = rowwise_cosine(texts_embeddings[i].reshape(1,-1) , lstnpz[j]['embedding'].reshape(1, -1)) \n",
    "        results.append({'text_idx': i, 'npz_idx': j, 'cosine_sim': float(cosine_sim[0])})\n",
    "\n",
    "dfres = pd.DataFrame(results)\n",
    "dfres2 = dfres.pivot(index='text_idx', columns='npz_idx', values='cosine_sim')"
   ]
  },
  {
   "cell_type": "code",
   "execution_count": null,
   "id": "3c508d9f",
   "metadata": {},
   "outputs": [],
   "source": []
  },
  {
   "cell_type": "code",
   "execution_count": 21,
   "id": "66e06215",
   "metadata": {},
   "outputs": [],
   "source": []
  },
  {
   "cell_type": "code",
   "execution_count": 29,
   "id": "0a80266e",
   "metadata": {},
   "outputs": [],
   "source": [
    "results = []\n",
    "for i in range(10):\n",
    "    for j in range(10):\n",
    "        cosine_sim = rowwise_cosine(texts_embeddings[i].reshape(1,-1) ,texts_embeddings2[j].reshape(1,-1)) \n",
    "        results.append({'text_idx': i, 'npz_idx': j, 'cosine_sim': float(cosine_sim[0])})\n",
    "\n",
    "dfres3 = pd.DataFrame(results)\n",
    "dfres4 = dfres3.pivot(index='text_idx', columns='npz_idx', values='cosine_sim')"
   ]
  },
  {
   "cell_type": "code",
   "execution_count": 30,
   "id": "84f9b2be",
   "metadata": {},
   "outputs": [
    {
     "data": {
      "text/html": [
       "<div>\n",
       "<style scoped>\n",
       "    .dataframe tbody tr th:only-of-type {\n",
       "        vertical-align: middle;\n",
       "    }\n",
       "\n",
       "    .dataframe tbody tr th {\n",
       "        vertical-align: top;\n",
       "    }\n",
       "\n",
       "    .dataframe thead th {\n",
       "        text-align: right;\n",
       "    }\n",
       "</style>\n",
       "<table border=\"1\" class=\"dataframe\">\n",
       "  <thead>\n",
       "    <tr style=\"text-align: right;\">\n",
       "      <th>npz_idx</th>\n",
       "      <th>0</th>\n",
       "      <th>1</th>\n",
       "      <th>2</th>\n",
       "      <th>3</th>\n",
       "      <th>4</th>\n",
       "      <th>5</th>\n",
       "      <th>6</th>\n",
       "      <th>7</th>\n",
       "      <th>8</th>\n",
       "      <th>9</th>\n",
       "    </tr>\n",
       "    <tr>\n",
       "      <th>text_idx</th>\n",
       "      <th></th>\n",
       "      <th></th>\n",
       "      <th></th>\n",
       "      <th></th>\n",
       "      <th></th>\n",
       "      <th></th>\n",
       "      <th></th>\n",
       "      <th></th>\n",
       "      <th></th>\n",
       "      <th></th>\n",
       "    </tr>\n",
       "  </thead>\n",
       "  <tbody>\n",
       "    <tr>\n",
       "      <th>0</th>\n",
       "      <td>1.000000</td>\n",
       "      <td>0.841253</td>\n",
       "      <td>0.863596</td>\n",
       "      <td>0.786862</td>\n",
       "      <td>0.793491</td>\n",
       "      <td>0.856968</td>\n",
       "      <td>0.823790</td>\n",
       "      <td>0.791291</td>\n",
       "      <td>0.858125</td>\n",
       "      <td>0.785469</td>\n",
       "    </tr>\n",
       "    <tr>\n",
       "      <th>1</th>\n",
       "      <td>0.841253</td>\n",
       "      <td>1.000000</td>\n",
       "      <td>0.872949</td>\n",
       "      <td>0.809531</td>\n",
       "      <td>0.831309</td>\n",
       "      <td>0.844081</td>\n",
       "      <td>0.851263</td>\n",
       "      <td>0.827890</td>\n",
       "      <td>0.874289</td>\n",
       "      <td>0.802238</td>\n",
       "    </tr>\n",
       "    <tr>\n",
       "      <th>2</th>\n",
       "      <td>0.863596</td>\n",
       "      <td>0.872949</td>\n",
       "      <td>1.000000</td>\n",
       "      <td>0.814741</td>\n",
       "      <td>0.813392</td>\n",
       "      <td>0.926980</td>\n",
       "      <td>0.871163</td>\n",
       "      <td>0.825828</td>\n",
       "      <td>0.935007</td>\n",
       "      <td>0.807648</td>\n",
       "    </tr>\n",
       "    <tr>\n",
       "      <th>3</th>\n",
       "      <td>0.786862</td>\n",
       "      <td>0.809531</td>\n",
       "      <td>0.814741</td>\n",
       "      <td>1.000000</td>\n",
       "      <td>0.791624</td>\n",
       "      <td>0.786825</td>\n",
       "      <td>0.792726</td>\n",
       "      <td>0.818383</td>\n",
       "      <td>0.814762</td>\n",
       "      <td>0.773511</td>\n",
       "    </tr>\n",
       "    <tr>\n",
       "      <th>4</th>\n",
       "      <td>0.793491</td>\n",
       "      <td>0.831309</td>\n",
       "      <td>0.813392</td>\n",
       "      <td>0.791624</td>\n",
       "      <td>1.000000</td>\n",
       "      <td>0.800758</td>\n",
       "      <td>0.810900</td>\n",
       "      <td>0.779426</td>\n",
       "      <td>0.828192</td>\n",
       "      <td>0.813762</td>\n",
       "    </tr>\n",
       "    <tr>\n",
       "      <th>5</th>\n",
       "      <td>0.856968</td>\n",
       "      <td>0.844081</td>\n",
       "      <td>0.926980</td>\n",
       "      <td>0.786825</td>\n",
       "      <td>0.800758</td>\n",
       "      <td>1.000000</td>\n",
       "      <td>0.838400</td>\n",
       "      <td>0.803842</td>\n",
       "      <td>0.917606</td>\n",
       "      <td>0.794691</td>\n",
       "    </tr>\n",
       "    <tr>\n",
       "      <th>6</th>\n",
       "      <td>0.823790</td>\n",
       "      <td>0.851263</td>\n",
       "      <td>0.871163</td>\n",
       "      <td>0.792726</td>\n",
       "      <td>0.810900</td>\n",
       "      <td>0.838400</td>\n",
       "      <td>1.000000</td>\n",
       "      <td>0.816136</td>\n",
       "      <td>0.876911</td>\n",
       "      <td>0.809703</td>\n",
       "    </tr>\n",
       "    <tr>\n",
       "      <th>7</th>\n",
       "      <td>0.791291</td>\n",
       "      <td>0.827890</td>\n",
       "      <td>0.825828</td>\n",
       "      <td>0.818383</td>\n",
       "      <td>0.779426</td>\n",
       "      <td>0.803842</td>\n",
       "      <td>0.816136</td>\n",
       "      <td>1.000000</td>\n",
       "      <td>0.841029</td>\n",
       "      <td>0.790941</td>\n",
       "    </tr>\n",
       "    <tr>\n",
       "      <th>8</th>\n",
       "      <td>0.858125</td>\n",
       "      <td>0.874289</td>\n",
       "      <td>0.935007</td>\n",
       "      <td>0.814762</td>\n",
       "      <td>0.828192</td>\n",
       "      <td>0.917606</td>\n",
       "      <td>0.876911</td>\n",
       "      <td>0.841029</td>\n",
       "      <td>1.000000</td>\n",
       "      <td>0.813819</td>\n",
       "    </tr>\n",
       "    <tr>\n",
       "      <th>9</th>\n",
       "      <td>0.785469</td>\n",
       "      <td>0.802238</td>\n",
       "      <td>0.807648</td>\n",
       "      <td>0.773511</td>\n",
       "      <td>0.813762</td>\n",
       "      <td>0.794691</td>\n",
       "      <td>0.809703</td>\n",
       "      <td>0.790941</td>\n",
       "      <td>0.813819</td>\n",
       "      <td>1.000000</td>\n",
       "    </tr>\n",
       "  </tbody>\n",
       "</table>\n",
       "</div>"
      ],
      "text/plain": [
       "npz_idx          0         1         2         3         4         5  \\\n",
       "text_idx                                                               \n",
       "0         1.000000  0.841253  0.863596  0.786862  0.793491  0.856968   \n",
       "1         0.841253  1.000000  0.872949  0.809531  0.831309  0.844081   \n",
       "2         0.863596  0.872949  1.000000  0.814741  0.813392  0.926980   \n",
       "3         0.786862  0.809531  0.814741  1.000000  0.791624  0.786825   \n",
       "4         0.793491  0.831309  0.813392  0.791624  1.000000  0.800758   \n",
       "5         0.856968  0.844081  0.926980  0.786825  0.800758  1.000000   \n",
       "6         0.823790  0.851263  0.871163  0.792726  0.810900  0.838400   \n",
       "7         0.791291  0.827890  0.825828  0.818383  0.779426  0.803842   \n",
       "8         0.858125  0.874289  0.935007  0.814762  0.828192  0.917606   \n",
       "9         0.785469  0.802238  0.807648  0.773511  0.813762  0.794691   \n",
       "\n",
       "npz_idx          6         7         8         9  \n",
       "text_idx                                          \n",
       "0         0.823790  0.791291  0.858125  0.785469  \n",
       "1         0.851263  0.827890  0.874289  0.802238  \n",
       "2         0.871163  0.825828  0.935007  0.807648  \n",
       "3         0.792726  0.818383  0.814762  0.773511  \n",
       "4         0.810900  0.779426  0.828192  0.813762  \n",
       "5         0.838400  0.803842  0.917606  0.794691  \n",
       "6         1.000000  0.816136  0.876911  0.809703  \n",
       "7         0.816136  1.000000  0.841029  0.790941  \n",
       "8         0.876911  0.841029  1.000000  0.813819  \n",
       "9         0.809703  0.790941  0.813819  1.000000  "
      ]
     },
     "execution_count": 30,
     "metadata": {},
     "output_type": "execute_result"
    }
   ],
   "source": [
    "dfres4"
   ]
  },
  {
   "cell_type": "code",
   "execution_count": null,
   "id": "aea24fba",
   "metadata": {},
   "outputs": [],
   "source": []
  },
  {
   "cell_type": "code",
   "execution_count": null,
   "id": "5af33488",
   "metadata": {},
   "outputs": [],
   "source": []
  }
 ],
 "metadata": {
  "kernelspec": {
   "display_name": "perfectdays",
   "language": "python",
   "name": "python3"
  },
  "language_info": {
   "codemirror_mode": {
    "name": "ipython",
    "version": 3
   },
   "file_extension": ".py",
   "mimetype": "text/x-python",
   "name": "python",
   "nbconvert_exporter": "python",
   "pygments_lexer": "ipython3",
   "version": "3.11.9"
  }
 },
 "nbformat": 4,
 "nbformat_minor": 5
}
