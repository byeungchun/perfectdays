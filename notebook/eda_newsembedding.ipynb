{
 "cells": [
  {
   "cell_type": "code",
   "execution_count": 11,
   "id": "7d00155d",
   "metadata": {},
   "outputs": [],
   "source": [
    "import os\n",
    "import glob\n",
    "import numpy as np\n",
    "import polars as pl\n",
    "from dotenv import load_dotenv"
   ]
  },
  {
   "cell_type": "code",
   "execution_count": 2,
   "id": "d4d7929b",
   "metadata": {},
   "outputs": [
    {
     "data": {
      "text/plain": [
       "True"
      ]
     },
     "execution_count": 2,
     "metadata": {},
     "output_type": "execute_result"
    }
   ],
   "source": [
    "load_dotenv(r\"C:\\Users\\by003457\\workspace\\perfectdays\\.env\")"
   ]
  },
  {
   "cell_type": "code",
   "execution_count": 3,
   "id": "bedb806c",
   "metadata": {},
   "outputs": [],
   "source": [
    "NEWS_PARQUET_MONTH_DIR = os.environ[\"NEWS_PARQUET_MONTH_DIR\"]"
   ]
  },
  {
   "cell_type": "code",
   "execution_count": 10,
   "id": "8a9784cb",
   "metadata": {},
   "outputs": [
    {
     "data": {
      "text/plain": [
       "['L:\\\\MED\\\\TRAN\\\\2025_BankRegDataCollection\\\\rtrs_news\\\\monthly\\\\1999-03_embeddings_3pty_ko.npz',\n",
       " 'L:\\\\MED\\\\TRAN\\\\2025_BankRegDataCollection\\\\rtrs_news\\\\monthly\\\\1999-04_embeddings_3pty_ko.npz',\n",
       " 'L:\\\\MED\\\\TRAN\\\\2025_BankRegDataCollection\\\\rtrs_news\\\\monthly\\\\1999-05_embeddings_3pty_ko.npz',\n",
       " 'L:\\\\MED\\\\TRAN\\\\2025_BankRegDataCollection\\\\rtrs_news\\\\monthly\\\\1999-06_embeddings_3pty_ko.npz',\n",
       " 'L:\\\\MED\\\\TRAN\\\\2025_BankRegDataCollection\\\\rtrs_news\\\\monthly\\\\1999-07_embeddings_3pty_ko.npz']"
      ]
     },
     "execution_count": 10,
     "metadata": {},
     "output_type": "execute_result"
    }
   ],
   "source": [
    "mmfiles = sorted(glob.glob(os.path.join(NEWS_PARQUET_MONTH_DIR, \"*3pty_ko.npz\")))\n",
    "mmfiles[:5]"
   ]
  },
  {
   "cell_type": "code",
   "execution_count": 12,
   "id": "cc55d508",
   "metadata": {},
   "outputs": [],
   "source": [
    "mmfile = mmfiles[-1]"
   ]
  },
  {
   "cell_type": "code",
   "execution_count": 13,
   "id": "d212a08b",
   "metadata": {},
   "outputs": [],
   "source": [
    "# read npz file\n",
    "mm_data = np.load(mmfile)"
   ]
  },
  {
   "cell_type": "code",
   "execution_count": 14,
   "id": "e5db0483",
   "metadata": {},
   "outputs": [
    {
     "data": {
      "text/plain": [
       "KeysView(NpzFile 'L:\\\\MED\\\\TRAN\\\\2025_BankRegDataCollection\\\\rtrs_news\\\\monthly\\\\2025-10_embeddings_3pty_ko.npz' with keys: ids, embeddings)"
      ]
     },
     "execution_count": 14,
     "metadata": {},
     "output_type": "execute_result"
    }
   ],
   "source": [
    "mm_data.keys()"
   ]
  },
  {
   "cell_type": "code",
   "execution_count": 15,
   "id": "e31d36eb",
   "metadata": {},
   "outputs": [
    {
     "name": "stdout",
     "output_type": "stream",
     "text": [
      "ids: (173580,)\n",
      "embeddings: (173580, 768)\n"
     ]
    }
   ],
   "source": [
    "# print shape of each array\n",
    "for key in mm_data.keys():\n",
    "    print(f\"{key}: {mm_data[key].shape}\")   "
   ]
  },
  {
   "cell_type": "code",
   "execution_count": null,
   "id": "6792a7b3",
   "metadata": {},
   "outputs": [],
   "source": []
  }
 ],
 "metadata": {
  "kernelspec": {
   "display_name": "perfectdays",
   "language": "python",
   "name": "python3"
  },
  "language_info": {
   "codemirror_mode": {
    "name": "ipython",
    "version": 3
   },
   "file_extension": ".py",
   "mimetype": "text/x-python",
   "name": "python",
   "nbconvert_exporter": "python",
   "pygments_lexer": "ipython3",
   "version": "3.11.9"
  }
 },
 "nbformat": 4,
 "nbformat_minor": 5
}
