{
 "cells": [
  {
   "cell_type": "code",
   "execution_count": 1,
   "id": "3fd08702",
   "metadata": {},
   "outputs": [],
   "source": [
    "import os\n",
    "import glob\n",
    "import pandas as pd\n",
    "import polars as pl\n",
    "\n",
    "from dotenv import load_dotenv"
   ]
  },
  {
   "cell_type": "code",
   "execution_count": 2,
   "id": "b3bb71c0",
   "metadata": {},
   "outputs": [
    {
     "data": {
      "text/plain": [
       "True"
      ]
     },
     "execution_count": 2,
     "metadata": {},
     "output_type": "execute_result"
    }
   ],
   "source": [
    "load_dotenv(r\"C:\\Users\\by003457\\workspace\\perfectdays\\.env\")"
   ]
  },
  {
   "cell_type": "code",
   "execution_count": 3,
   "id": "29943a88",
   "metadata": {},
   "outputs": [
    {
     "data": {
      "text/plain": [
       "'L:\\\\DRS\\\\Projects\\\\2025_drs_ai\\\\capiq'"
      ]
     },
     "execution_count": 3,
     "metadata": {},
     "output_type": "execute_result"
    }
   ],
   "source": [
    "CAPIQ_DATA_DIR = os.environ[\"CAPIQ_DATA_DIR\"]\n",
    "CAPIQ_DATA_DIR"
   ]
  },
  {
   "cell_type": "code",
   "execution_count": 4,
   "id": "3580507a",
   "metadata": {},
   "outputs": [],
   "source": [
    "# compinfo_file = os.path.join(CAPIQ_DATA_DIR, \"comp_naics_code_all.parquet\")\n",
    "compprice_file = os.path.join(CAPIQ_DATA_DIR, \"capiq_price_equity_kr.parquet\")\n",
    "compmarketcap_file = os.path.join(CAPIQ_DATA_DIR, \"capiq_marketcap_kr.parquet\")\n",
    "compinfo_file = os.path.join(CAPIQ_DATA_DIR, \"comp_naics_code_common_stock_kr.parquet\")"
   ]
  },
  {
   "cell_type": "code",
   "execution_count": 5,
   "id": "784b1e0a",
   "metadata": {},
   "outputs": [],
   "source": [
    "df_compinfo = pl.read_parquet(compinfo_file)\n",
    "df_compprice = pl.read_parquet(compprice_file)\n",
    "df_mktcap = pl.read_parquet(compmarketcap_file)"
   ]
  },
  {
   "cell_type": "code",
   "execution_count": 6,
   "id": "b430d063",
   "metadata": {},
   "outputs": [
    {
     "data": {
      "text/html": [
       "<div><style>\n",
       ".dataframe > thead > tr,\n",
       ".dataframe > tbody > tr {\n",
       "  text-align: right;\n",
       "  white-space: pre-wrap;\n",
       "}\n",
       "</style>\n",
       "<small>shape: (2, 5)</small><table border=\"1\" class=\"dataframe\"><thead><tr><th>companyId</th><th>pricingDate</th><th>marketCap</th><th>TEV</th><th>sharesOutstanding</th></tr><tr><td>i64</td><td>datetime[ns]</td><td>f64</td><td>f64</td><td>i64</td></tr></thead><tbody><tr><td>7672534</td><td>2025-01-24 00:00:00</td><td>141108.6096</td><td>101429.02926</td><td>13065612</td></tr><tr><td>7672534</td><td>2025-01-25 00:00:00</td><td>141108.6096</td><td>101429.02926</td><td>13065612</td></tr></tbody></table></div>"
      ],
      "text/plain": [
       "shape: (2, 5)\n",
       "┌───────────┬─────────────────────┬─────────────┬──────────────┬───────────────────┐\n",
       "│ companyId ┆ pricingDate         ┆ marketCap   ┆ TEV          ┆ sharesOutstanding │\n",
       "│ ---       ┆ ---                 ┆ ---         ┆ ---          ┆ ---               │\n",
       "│ i64       ┆ datetime[ns]        ┆ f64         ┆ f64          ┆ i64               │\n",
       "╞═══════════╪═════════════════════╪═════════════╪══════════════╪═══════════════════╡\n",
       "│ 7672534   ┆ 2025-01-24 00:00:00 ┆ 141108.6096 ┆ 101429.02926 ┆ 13065612          │\n",
       "│ 7672534   ┆ 2025-01-25 00:00:00 ┆ 141108.6096 ┆ 101429.02926 ┆ 13065612          │\n",
       "└───────────┴─────────────────────┴─────────────┴──────────────┴───────────────────┘"
      ]
     },
     "execution_count": 6,
     "metadata": {},
     "output_type": "execute_result"
    }
   ],
   "source": [
    "df_mktcap.head(2)"
   ]
  },
  {
   "cell_type": "code",
   "execution_count": 7,
   "id": "0d65ab44",
   "metadata": {},
   "outputs": [
    {
     "data": {
      "text/html": [
       "<div><style>\n",
       ".dataframe > thead > tr,\n",
       ".dataframe > tbody > tr {\n",
       "  text-align: right;\n",
       "  white-space: pre-wrap;\n",
       "}\n",
       "</style>\n",
       "<small>shape: (2, 27)</small><table border=\"1\" class=\"dataframe\"><thead><tr><th>tradingItemId</th><th>securityId</th><th>companyId</th><th>exchangeName</th><th>exchangeSymbol</th><th>tickerSymbol</th><th>ISOCode</th><th>isoCountry2</th><th>companyName</th><th>NAICS</th><th>capiq_indu_code</th><th>indu_desc</th><th>level_1</th><th>code_1</th><th>desc_1</th><th>level_2</th><th>code_2</th><th>desc_2</th><th>level_3</th><th>code_3</th><th>desc_3</th><th>level_4</th><th>code_4</th><th>desc_4</th><th>level_5</th><th>code_5</th><th>desc_5</th></tr><tr><td>str</td><td>str</td><td>str</td><td>str</td><td>str</td><td>str</td><td>str</td><td>str</td><td>str</td><td>str</td><td>str</td><td>str</td><td>i64</td><td>str</td><td>str</td><td>f64</td><td>str</td><td>str</td><td>f64</td><td>str</td><td>str</td><td>f64</td><td>str</td><td>str</td><td>f64</td><td>str</td><td>str</td></tr></thead><tbody><tr><td>&quot;1937019783&quot;</td><td>&quot;1870961429&quot;</td><td>&quot;26840462&quot;</td><td>&quot;KOSDAQ&quot;</td><td>&quot;KOSDAQ&quot;</td><td>&quot;A475430&quot;</td><td>&quot;KRW&quot;</td><td>&quot;KR&quot;</td><td>&quot;KISTRON Co., Ltd.&quot;</td><td>&quot;331222&quot;</td><td>&quot;105680&quot;</td><td>&quot;Steel Wire Drawing&quot;</td><td>1</td><td>&quot;33&quot;</td><td>&quot;Manufacturing&quot;</td><td>2.0</td><td>&quot;331&quot;</td><td>&quot;Primary Metal Manufacturing&quot;</td><td>3.0</td><td>&quot;3312&quot;</td><td>&quot;Steel Product Manufacturing fr…</td><td>4.0</td><td>&quot;33122&quot;</td><td>&quot;Rolling and Drawing of Purchas…</td><td>5.0</td><td>&quot;331222&quot;</td><td>&quot;Steel Wire Drawing&quot;</td></tr><tr><td>&quot;1899874192&quot;</td><td>&quot;270184252&quot;</td><td>&quot;29513698&quot;</td><td>&quot;KOSDAQ&quot;</td><td>&quot;KOSDAQ&quot;</td><td>&quot;A177900&quot;</td><td>&quot;KRW&quot;</td><td>&quot;KR&quot;</td><td>&quot;3A Logics Inc.&quot;</td><td>&quot;334413&quot;</td><td>&quot;105869&quot;</td><td>&quot;Semiconductor and Related Devi…</td><td>1</td><td>&quot;33&quot;</td><td>&quot;Manufacturing&quot;</td><td>2.0</td><td>&quot;334&quot;</td><td>&quot;Computer and Electronic Produc…</td><td>3.0</td><td>&quot;3344&quot;</td><td>&quot;Semiconductor and Other Electr…</td><td>4.0</td><td>&quot;33441&quot;</td><td>&quot;Semiconductor and Other Electr…</td><td>5.0</td><td>&quot;334413&quot;</td><td>&quot;Semiconductor and Related Devi…</td></tr></tbody></table></div>"
      ],
      "text/plain": [
       "shape: (2, 27)\n",
       "┌────────────┬────────────┬───────────┬────────────┬───┬────────────┬─────────┬────────┬───────────┐\n",
       "│ tradingIte ┆ securityId ┆ companyId ┆ exchangeNa ┆ … ┆ desc_4     ┆ level_5 ┆ code_5 ┆ desc_5    │\n",
       "│ mId        ┆ ---        ┆ ---       ┆ me         ┆   ┆ ---        ┆ ---     ┆ ---    ┆ ---       │\n",
       "│ ---        ┆ str        ┆ str       ┆ ---        ┆   ┆ str        ┆ f64     ┆ str    ┆ str       │\n",
       "│ str        ┆            ┆           ┆ str        ┆   ┆            ┆         ┆        ┆           │\n",
       "╞════════════╪════════════╪═══════════╪════════════╪═══╪════════════╪═════════╪════════╪═══════════╡\n",
       "│ 1937019783 ┆ 1870961429 ┆ 26840462  ┆ KOSDAQ     ┆ … ┆ Rolling    ┆ 5.0     ┆ 331222 ┆ Steel     │\n",
       "│            ┆            ┆           ┆            ┆   ┆ and        ┆         ┆        ┆ Wire      │\n",
       "│            ┆            ┆           ┆            ┆   ┆ Drawing of ┆         ┆        ┆ Drawing   │\n",
       "│            ┆            ┆           ┆            ┆   ┆ Purchas…   ┆         ┆        ┆           │\n",
       "│ 1899874192 ┆ 270184252  ┆ 29513698  ┆ KOSDAQ     ┆ … ┆ Semiconduc ┆ 5.0     ┆ 334413 ┆ Semicondu │\n",
       "│            ┆            ┆           ┆            ┆   ┆ tor and    ┆         ┆        ┆ ctor and  │\n",
       "│            ┆            ┆           ┆            ┆   ┆ Other      ┆         ┆        ┆ Related   │\n",
       "│            ┆            ┆           ┆            ┆   ┆ Electr…    ┆         ┆        ┆ Devi…     │\n",
       "└────────────┴────────────┴───────────┴────────────┴───┴────────────┴─────────┴────────┴───────────┘"
      ]
     },
     "execution_count": 7,
     "metadata": {},
     "output_type": "execute_result"
    }
   ],
   "source": [
    "df_compinfo.head(2)"
   ]
  },
  {
   "cell_type": "code",
   "execution_count": 8,
   "id": "f3155c14",
   "metadata": {},
   "outputs": [
    {
     "data": {
      "text/html": [
       "<div><style>\n",
       ".dataframe > thead > tr,\n",
       ".dataframe > tbody > tr {\n",
       "  text-align: right;\n",
       "  white-space: pre-wrap;\n",
       "}\n",
       "</style>\n",
       "<small>shape: (2, 12)</small><table border=\"1\" class=\"dataframe\"><thead><tr><th>tradingItemId</th><th>pricingDate</th><th>priceOpen</th><th>priceHigh</th><th>priceLow</th><th>priceMid</th><th>priceClose</th><th>priceBid</th><th>priceAsk</th><th>volume</th><th>adjustmentFactor</th><th>VWAP</th></tr><tr><td>i64</td><td>datetime[ns]</td><td>decimal[13,6]</td><td>decimal[13,6]</td><td>decimal[13,6]</td><td>decimal[13,6]</td><td>decimal[13,6]</td><td>decimal[13,6]</td><td>decimal[13,6]</td><td>f64</td><td>decimal[12,10]</td><td>decimal[13,6]</td></tr></thead><tbody><tr><td>242176131</td><td>2015-01-02 00:00:00</td><td>13833.333333</td><td>13969.696968</td><td>13484.848484</td><td>13621.212120</td><td>13636.363635</td><td>13606.060605</td><td>13636.363635</td><td>101512.0</td><td>6.6000000000</td><td>null</td></tr><tr><td>242176131</td><td>2015-01-05 00:00:00</td><td>14863.636363</td><td>15681.818181</td><td>14090.909090</td><td>null</td><td>15681.818181</td><td>15681.818181</td><td>null</td><td>820932.0</td><td>6.6000000000</td><td>null</td></tr></tbody></table></div>"
      ],
      "text/plain": [
       "shape: (2, 12)\n",
       "┌───────────┬───────────┬───────────┬───────────┬───┬───────────┬──────────┬───────────┬───────────┐\n",
       "│ tradingIt ┆ pricingDa ┆ priceOpen ┆ priceHigh ┆ … ┆ priceAsk  ┆ volume   ┆ adjustmen ┆ VWAP      │\n",
       "│ emId      ┆ te        ┆ ---       ┆ ---       ┆   ┆ ---       ┆ ---      ┆ tFactor   ┆ ---       │\n",
       "│ ---       ┆ ---       ┆ decimal[1 ┆ decimal[1 ┆   ┆ decimal[1 ┆ f64      ┆ ---       ┆ decimal[1 │\n",
       "│ i64       ┆ datetime[ ┆ 3,6]      ┆ 3,6]      ┆   ┆ 3,6]      ┆          ┆ decimal[1 ┆ 3,6]      │\n",
       "│           ┆ ns]       ┆           ┆           ┆   ┆           ┆          ┆ 2,10]     ┆           │\n",
       "╞═══════════╪═══════════╪═══════════╪═══════════╪═══╪═══════════╪══════════╪═══════════╪═══════════╡\n",
       "│ 242176131 ┆ 2015-01-0 ┆ 13833.333 ┆ 13969.696 ┆ … ┆ 13636.363 ┆ 101512.0 ┆ 6.6000000 ┆ null      │\n",
       "│           ┆ 2         ┆ 333       ┆ 968       ┆   ┆ 635       ┆          ┆ 000       ┆           │\n",
       "│           ┆ 00:00:00  ┆           ┆           ┆   ┆           ┆          ┆           ┆           │\n",
       "│ 242176131 ┆ 2015-01-0 ┆ 14863.636 ┆ 15681.818 ┆ … ┆ null      ┆ 820932.0 ┆ 6.6000000 ┆ null      │\n",
       "│           ┆ 5         ┆ 363       ┆ 181       ┆   ┆           ┆          ┆ 000       ┆           │\n",
       "│           ┆ 00:00:00  ┆           ┆           ┆   ┆           ┆          ┆           ┆           │\n",
       "└───────────┴───────────┴───────────┴───────────┴───┴───────────┴──────────┴───────────┴───────────┘"
      ]
     },
     "execution_count": 8,
     "metadata": {},
     "output_type": "execute_result"
    }
   ],
   "source": [
    "df_compprice.head(2)"
   ]
  },
  {
   "cell_type": "code",
   "execution_count": 9,
   "id": "7a62c98c",
   "metadata": {},
   "outputs": [
    {
     "data": {
      "text/html": [
       "<div><style>\n",
       ".dataframe > thead > tr,\n",
       ".dataframe > tbody > tr {\n",
       "  text-align: right;\n",
       "  white-space: pre-wrap;\n",
       "}\n",
       "</style>\n",
       "<small>shape: (1, 27)</small><table border=\"1\" class=\"dataframe\"><thead><tr><th>tradingItemId</th><th>securityId</th><th>companyId</th><th>exchangeName</th><th>exchangeSymbol</th><th>tickerSymbol</th><th>ISOCode</th><th>isoCountry2</th><th>companyName</th><th>NAICS</th><th>capiq_indu_code</th><th>indu_desc</th><th>level_1</th><th>code_1</th><th>desc_1</th><th>level_2</th><th>code_2</th><th>desc_2</th><th>level_3</th><th>code_3</th><th>desc_3</th><th>level_4</th><th>code_4</th><th>desc_4</th><th>level_5</th><th>code_5</th><th>desc_5</th></tr><tr><td>str</td><td>str</td><td>str</td><td>str</td><td>str</td><td>str</td><td>str</td><td>str</td><td>str</td><td>str</td><td>str</td><td>str</td><td>i64</td><td>str</td><td>str</td><td>f64</td><td>str</td><td>str</td><td>f64</td><td>str</td><td>str</td><td>f64</td><td>str</td><td>str</td><td>f64</td><td>str</td><td>str</td></tr></thead><tbody><tr><td>&quot;20242977&quot;</td><td>&quot;20229558&quot;</td><td>&quot;91868&quot;</td><td>&quot;Korea Stock Exchange&quot;</td><td>&quot;KOSE&quot;</td><td>&quot;A005930&quot;</td><td>&quot;KRW&quot;</td><td>&quot;KR&quot;</td><td>&quot;Samsung Electronics Co., Ltd.&quot;</td><td>&quot;33441&quot;</td><td>&quot;105866&quot;</td><td>&quot;Semiconductor and Other Electr…</td><td>1</td><td>&quot;33&quot;</td><td>&quot;Manufacturing&quot;</td><td>2.0</td><td>&quot;334&quot;</td><td>&quot;Computer and Electronic Produc…</td><td>3.0</td><td>&quot;3344&quot;</td><td>&quot;Semiconductor and Other Electr…</td><td>4.0</td><td>&quot;33441&quot;</td><td>&quot;Semiconductor and Other Electr…</td><td>null</td><td>null</td><td>null</td></tr></tbody></table></div>"
      ],
      "text/plain": [
       "shape: (1, 27)\n",
       "┌─────────────┬────────────┬───────────┬─────────────┬───┬─────────────┬─────────┬────────┬────────┐\n",
       "│ tradingItem ┆ securityId ┆ companyId ┆ exchangeNam ┆ … ┆ desc_4      ┆ level_5 ┆ code_5 ┆ desc_5 │\n",
       "│ Id          ┆ ---        ┆ ---       ┆ e           ┆   ┆ ---         ┆ ---     ┆ ---    ┆ ---    │\n",
       "│ ---         ┆ str        ┆ str       ┆ ---         ┆   ┆ str         ┆ f64     ┆ str    ┆ str    │\n",
       "│ str         ┆            ┆           ┆ str         ┆   ┆             ┆         ┆        ┆        │\n",
       "╞═════════════╪════════════╪═══════════╪═════════════╪═══╪═════════════╪═════════╪════════╪════════╡\n",
       "│ 20242977    ┆ 20229558   ┆ 91868     ┆ Korea Stock ┆ … ┆ Semiconduct ┆ null    ┆ null   ┆ null   │\n",
       "│             ┆            ┆           ┆ Exchange    ┆   ┆ or and      ┆         ┆        ┆        │\n",
       "│             ┆            ┆           ┆             ┆   ┆ Other       ┆         ┆        ┆        │\n",
       "│             ┆            ┆           ┆             ┆   ┆ Electr…     ┆         ┆        ┆        │\n",
       "└─────────────┴────────────┴───────────┴─────────────┴───┴─────────────┴─────────┴────────┴────────┘"
      ]
     },
     "execution_count": 9,
     "metadata": {},
     "output_type": "execute_result"
    }
   ],
   "source": [
    "rec = df_compinfo.filter(pl.col(\"companyName\").str.contains(\"Samsung Electronics Co., Ltd.\"))\n",
    "rec"
   ]
  },
  {
   "cell_type": "code",
   "execution_count": 10,
   "id": "368345c4",
   "metadata": {},
   "outputs": [
    {
     "name": "stdout",
     "output_type": "stream",
     "text": [
      "idtrading: 20242977, idcomp: 91868, compname: Samsung Electronics Co., Ltd.\n"
     ]
    }
   ],
   "source": [
    "idtrading = rec['tradingItemId'][0]\n",
    "idcomp = rec['companyId'][0]\n",
    "compname = rec['companyName'][0]\n",
    "print(f'idtrading: {idtrading}, idcomp: {idcomp}, compname: {compname}')"
   ]
  },
  {
   "cell_type": "code",
   "execution_count": 15,
   "id": "5a04892e",
   "metadata": {},
   "outputs": [],
   "source": [
    "prices = df_compprice.filter(pl.col(\"tradingItemId\") == int(idtrading)).to_pandas()"
   ]
  },
  {
   "cell_type": "code",
   "execution_count": 16,
   "id": "23223ede",
   "metadata": {},
   "outputs": [
    {
     "data": {
      "text/html": [
       "<div>\n",
       "<style scoped>\n",
       "    .dataframe tbody tr th:only-of-type {\n",
       "        vertical-align: middle;\n",
       "    }\n",
       "\n",
       "    .dataframe tbody tr th {\n",
       "        vertical-align: top;\n",
       "    }\n",
       "\n",
       "    .dataframe thead th {\n",
       "        text-align: right;\n",
       "    }\n",
       "</style>\n",
       "<table border=\"1\" class=\"dataframe\">\n",
       "  <thead>\n",
       "    <tr style=\"text-align: right;\">\n",
       "      <th></th>\n",
       "      <th>tradingItemId</th>\n",
       "      <th>pricingDate</th>\n",
       "      <th>priceOpen</th>\n",
       "      <th>priceHigh</th>\n",
       "      <th>priceLow</th>\n",
       "      <th>priceMid</th>\n",
       "      <th>priceClose</th>\n",
       "      <th>priceBid</th>\n",
       "      <th>priceAsk</th>\n",
       "      <th>volume</th>\n",
       "      <th>adjustmentFactor</th>\n",
       "      <th>VWAP</th>\n",
       "    </tr>\n",
       "  </thead>\n",
       "  <tbody>\n",
       "    <tr>\n",
       "      <th>0</th>\n",
       "      <td>20242977</td>\n",
       "      <td>2015-01-02</td>\n",
       "      <td>26800.000000</td>\n",
       "      <td>26800.000000</td>\n",
       "      <td>26540.000000</td>\n",
       "      <td>26610.000000</td>\n",
       "      <td>26600.000000</td>\n",
       "      <td>26600.000000</td>\n",
       "      <td>26620.000000</td>\n",
       "      <td>7994600.0</td>\n",
       "      <td>50.0000000000</td>\n",
       "      <td>26645.092254</td>\n",
       "    </tr>\n",
       "    <tr>\n",
       "      <th>1</th>\n",
       "      <td>20242977</td>\n",
       "      <td>2015-01-05</td>\n",
       "      <td>26720.000000</td>\n",
       "      <td>26720.000000</td>\n",
       "      <td>26260.000000</td>\n",
       "      <td>26650.000000</td>\n",
       "      <td>26660.000000</td>\n",
       "      <td>26640.000000</td>\n",
       "      <td>26660.000000</td>\n",
       "      <td>10102650.0</td>\n",
       "      <td>50.0000000000</td>\n",
       "      <td>26562.311976</td>\n",
       "    </tr>\n",
       "    <tr>\n",
       "      <th>2</th>\n",
       "      <td>20242977</td>\n",
       "      <td>2015-01-06</td>\n",
       "      <td>26300.000000</td>\n",
       "      <td>26340.000000</td>\n",
       "      <td>25760.000000</td>\n",
       "      <td>25910.000000</td>\n",
       "      <td>25900.000000</td>\n",
       "      <td>25900.000000</td>\n",
       "      <td>25920.000000</td>\n",
       "      <td>15220750.0</td>\n",
       "      <td>50.0000000000</td>\n",
       "      <td>26028.466348</td>\n",
       "    </tr>\n",
       "    <tr>\n",
       "      <th>3</th>\n",
       "      <td>20242977</td>\n",
       "      <td>2015-01-07</td>\n",
       "      <td>25880.000000</td>\n",
       "      <td>26220.000000</td>\n",
       "      <td>25640.000000</td>\n",
       "      <td>26130.000000</td>\n",
       "      <td>26140.000000</td>\n",
       "      <td>26120.000000</td>\n",
       "      <td>26140.000000</td>\n",
       "      <td>14169800.0</td>\n",
       "      <td>50.0000000000</td>\n",
       "      <td>25981.274558</td>\n",
       "    </tr>\n",
       "    <tr>\n",
       "      <th>4</th>\n",
       "      <td>20242977</td>\n",
       "      <td>2015-01-08</td>\n",
       "      <td>26780.000000</td>\n",
       "      <td>26780.000000</td>\n",
       "      <td>26200.000000</td>\n",
       "      <td>26270.000000</td>\n",
       "      <td>26280.000000</td>\n",
       "      <td>26260.000000</td>\n",
       "      <td>26280.000000</td>\n",
       "      <td>12433950.0</td>\n",
       "      <td>50.0000000000</td>\n",
       "      <td>26390.567560</td>\n",
       "    </tr>\n",
       "  </tbody>\n",
       "</table>\n",
       "</div>"
      ],
      "text/plain": [
       "   tradingItemId pricingDate     priceOpen     priceHigh      priceLow  \\\n",
       "0       20242977  2015-01-02  26800.000000  26800.000000  26540.000000   \n",
       "1       20242977  2015-01-05  26720.000000  26720.000000  26260.000000   \n",
       "2       20242977  2015-01-06  26300.000000  26340.000000  25760.000000   \n",
       "3       20242977  2015-01-07  25880.000000  26220.000000  25640.000000   \n",
       "4       20242977  2015-01-08  26780.000000  26780.000000  26200.000000   \n",
       "\n",
       "       priceMid    priceClose      priceBid      priceAsk      volume  \\\n",
       "0  26610.000000  26600.000000  26600.000000  26620.000000   7994600.0   \n",
       "1  26650.000000  26660.000000  26640.000000  26660.000000  10102650.0   \n",
       "2  25910.000000  25900.000000  25900.000000  25920.000000  15220750.0   \n",
       "3  26130.000000  26140.000000  26120.000000  26140.000000  14169800.0   \n",
       "4  26270.000000  26280.000000  26260.000000  26280.000000  12433950.0   \n",
       "\n",
       "  adjustmentFactor          VWAP  \n",
       "0    50.0000000000  26645.092254  \n",
       "1    50.0000000000  26562.311976  \n",
       "2    50.0000000000  26028.466348  \n",
       "3    50.0000000000  25981.274558  \n",
       "4    50.0000000000  26390.567560  "
      ]
     },
     "execution_count": 16,
     "metadata": {},
     "output_type": "execute_result"
    }
   ],
   "source": [
    "prices.head(5)"
   ]
  },
  {
   "cell_type": "code",
   "execution_count": 18,
   "id": "cd666c12",
   "metadata": {},
   "outputs": [
    {
     "data": {
      "text/html": [
       "<div>\n",
       "<style scoped>\n",
       "    .dataframe tbody tr th:only-of-type {\n",
       "        vertical-align: middle;\n",
       "    }\n",
       "\n",
       "    .dataframe tbody tr th {\n",
       "        vertical-align: top;\n",
       "    }\n",
       "\n",
       "    .dataframe thead th {\n",
       "        text-align: right;\n",
       "    }\n",
       "</style>\n",
       "<table border=\"1\" class=\"dataframe\">\n",
       "  <thead>\n",
       "    <tr style=\"text-align: right;\">\n",
       "      <th></th>\n",
       "      <th>companyId</th>\n",
       "      <th>pricingDate</th>\n",
       "      <th>marketCap</th>\n",
       "      <th>TEV</th>\n",
       "      <th>sharesOutstanding</th>\n",
       "    </tr>\n",
       "  </thead>\n",
       "  <tbody>\n",
       "    <tr>\n",
       "      <th>0</th>\n",
       "      <td>91868</td>\n",
       "      <td>2015-01-02</td>\n",
       "      <td>1.943517e+08</td>\n",
       "      <td>1.470896e+08</td>\n",
       "      <td>7540819250</td>\n",
       "    </tr>\n",
       "    <tr>\n",
       "      <th>1</th>\n",
       "      <td>91868</td>\n",
       "      <td>2015-01-03</td>\n",
       "      <td>1.943517e+08</td>\n",
       "      <td>1.470896e+08</td>\n",
       "      <td>7540819250</td>\n",
       "    </tr>\n",
       "    <tr>\n",
       "      <th>2</th>\n",
       "      <td>91868</td>\n",
       "      <td>2015-01-04</td>\n",
       "      <td>1.943517e+08</td>\n",
       "      <td>1.470896e+08</td>\n",
       "      <td>7540819250</td>\n",
       "    </tr>\n",
       "    <tr>\n",
       "      <th>3</th>\n",
       "      <td>91868</td>\n",
       "      <td>2015-01-05</td>\n",
       "      <td>1.946453e+08</td>\n",
       "      <td>1.473832e+08</td>\n",
       "      <td>7540819250</td>\n",
       "    </tr>\n",
       "    <tr>\n",
       "      <th>4</th>\n",
       "      <td>91868</td>\n",
       "      <td>2015-01-06</td>\n",
       "      <td>1.895496e+08</td>\n",
       "      <td>1.422875e+08</td>\n",
       "      <td>7540819250</td>\n",
       "    </tr>\n",
       "    <tr>\n",
       "      <th>...</th>\n",
       "      <td>...</td>\n",
       "      <td>...</td>\n",
       "      <td>...</td>\n",
       "      <td>...</td>\n",
       "      <td>...</td>\n",
       "    </tr>\n",
       "    <tr>\n",
       "      <th>3944</th>\n",
       "      <td>91868</td>\n",
       "      <td>2025-10-20</td>\n",
       "      <td>6.380184e+08</td>\n",
       "      <td>5.621878e+08</td>\n",
       "      <td>6686083126</td>\n",
       "    </tr>\n",
       "    <tr>\n",
       "      <th>3945</th>\n",
       "      <td>91868</td>\n",
       "      <td>2025-10-21</td>\n",
       "      <td>6.358682e+08</td>\n",
       "      <td>5.600376e+08</td>\n",
       "      <td>6686083126</td>\n",
       "    </tr>\n",
       "    <tr>\n",
       "      <th>3946</th>\n",
       "      <td>91868</td>\n",
       "      <td>2025-10-22</td>\n",
       "      <td>6.428182e+08</td>\n",
       "      <td>5.669876e+08</td>\n",
       "      <td>6686083126</td>\n",
       "    </tr>\n",
       "    <tr>\n",
       "      <th>3947</th>\n",
       "      <td>91868</td>\n",
       "      <td>2025-10-23</td>\n",
       "      <td>6.289393e+08</td>\n",
       "      <td>5.531087e+08</td>\n",
       "      <td>6686083126</td>\n",
       "    </tr>\n",
       "    <tr>\n",
       "      <th>3948</th>\n",
       "      <td>91868</td>\n",
       "      <td>2025-10-24</td>\n",
       "      <td>6.289393e+08</td>\n",
       "      <td>5.531087e+08</td>\n",
       "      <td>6686083126</td>\n",
       "    </tr>\n",
       "  </tbody>\n",
       "</table>\n",
       "<p>3949 rows × 5 columns</p>\n",
       "</div>"
      ],
      "text/plain": [
       "      companyId pricingDate     marketCap           TEV  sharesOutstanding\n",
       "0         91868  2015-01-02  1.943517e+08  1.470896e+08         7540819250\n",
       "1         91868  2015-01-03  1.943517e+08  1.470896e+08         7540819250\n",
       "2         91868  2015-01-04  1.943517e+08  1.470896e+08         7540819250\n",
       "3         91868  2015-01-05  1.946453e+08  1.473832e+08         7540819250\n",
       "4         91868  2015-01-06  1.895496e+08  1.422875e+08         7540819250\n",
       "...         ...         ...           ...           ...                ...\n",
       "3944      91868  2025-10-20  6.380184e+08  5.621878e+08         6686083126\n",
       "3945      91868  2025-10-21  6.358682e+08  5.600376e+08         6686083126\n",
       "3946      91868  2025-10-22  6.428182e+08  5.669876e+08         6686083126\n",
       "3947      91868  2025-10-23  6.289393e+08  5.531087e+08         6686083126\n",
       "3948      91868  2025-10-24  6.289393e+08  5.531087e+08         6686083126\n",
       "\n",
       "[3949 rows x 5 columns]"
      ]
     },
     "execution_count": 18,
     "metadata": {},
     "output_type": "execute_result"
    }
   ],
   "source": [
    "volumes = df_mktcap.filter(pl.col(\"companyId\") == int(idcomp)).to_pandas()\n",
    "volumes"
   ]
  }
 ],
 "metadata": {
  "kernelspec": {
   "display_name": "perfectdays",
   "language": "python",
   "name": "python3"
  },
  "language_info": {
   "codemirror_mode": {
    "name": "ipython",
    "version": 3
   },
   "file_extension": ".py",
   "mimetype": "text/x-python",
   "name": "python",
   "nbconvert_exporter": "python",
   "pygments_lexer": "ipython3",
   "version": "3.11.9"
  }
 },
 "nbformat": 4,
 "nbformat_minor": 5
}
