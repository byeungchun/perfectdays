{
 "cells": [
  {
   "cell_type": "code",
   "execution_count": 1,
   "id": "14f0fb0c",
   "metadata": {},
   "outputs": [],
   "source": [
    "from sqlalchemy import create_engine, schema, Table, text, tuple_"
   ]
  },
  {
   "cell_type": "code",
   "execution_count": 2,
   "id": "48f8396d",
   "metadata": {},
   "outputs": [],
   "source": [
    "DATABASE_DRIVER = \"ODBC Driver 17 for SQL Server\"\n",
    "DATABASE_SERVER_INSTANCE = \"MSAPSQL145.bisad.bisinfo.org,55001\"\n",
    "DATABASE_NAME = \"capital_iq_data\"\n",
    "\n",
    "conn_str = f\"mssql+pyodbc://{DATABASE_SERVER_INSTANCE}/{DATABASE_NAME}?driver={DATABASE_DRIVER}\""
   ]
  },
  {
   "cell_type": "code",
   "execution_count": 4,
   "id": "c60db2b7",
   "metadata": {},
   "outputs": [],
   "source": [
    "con_mssql = create_engine(conn_str)"
   ]
  },
  {
   "cell_type": "code",
   "execution_count": null,
   "id": "d37840d1",
   "metadata": {},
   "outputs": [],
   "source": []
  }
 ],
 "metadata": {
  "kernelspec": {
   "display_name": "perfectdays",
   "language": "python",
   "name": "python3"
  },
  "language_info": {
   "codemirror_mode": {
    "name": "ipython",
    "version": 3
   },
   "file_extension": ".py",
   "mimetype": "text/x-python",
   "name": "python",
   "nbconvert_exporter": "python",
   "pygments_lexer": "ipython3",
   "version": "3.11.9"
  }
 },
 "nbformat": 4,
 "nbformat_minor": 5
}
